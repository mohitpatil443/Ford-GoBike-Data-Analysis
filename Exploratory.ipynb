{
 "cells": [
  {
   "cell_type": "markdown",
   "metadata": {
    "slideshow": {
     "slide_type": "skip"
    }
   },
   "source": [
    "# FordGo Bike System Data Analysis\n",
    "## by Mohit Patil\n",
    "\n",
    "\n",
    "## Table of Contents\n",
    "- [Introduction](#intro)\n",
    "- [Preliminary Wrangling](#gather)\n",
    "- [Assessment Summary](#assess_summary)\n",
    "- [Cleaning the dataset](#clean)\n",
    "- [Univariate Exploration](#uni)\n",
    "- [Bivariate Exploration](#bi)\n",
    "- [Trivariate Exploration](#multi)\n",
    "- [Summary](#summary)\n",
    "\n"
   ]
  },
  {
   "cell_type": "markdown",
   "metadata": {
    "slideshow": {
     "slide_type": "slide"
    }
   },
   "source": [
    "<a id='intro'></a>\n",
    "## Introduction\n",
    "# FordGo Bike System Data Analysis\n",
    "\n",
    "Ford GoBike is the Bay Area's bike share system. Bay Area Bike Share was introduced in 2013 as a pilot program for the region, with 700 bikes and 70 stations across San Francisco and San Jose. Once expansion is complete, Ford GoBike will grow to 7,000 bikes across San Francisco, the East Bay and San Jose.\n",
    "\n",
    "Ford GoBike, like other bike share systems, consists of a fleet of specially designed, sturdy and durable bikes that are locked into a network of docking stations throughout the city. The bikes can be unlocked from one station and returned to any other station in the system, making them ideal for one-way trips. People use bike share to commute to work or school, run errands, get to appointments or social engagements and more. It's a fun, convenient and affordable way to get around.\n",
    "\n",
    "The bikes are available for use 24 hours/day, 7 days/week, 365 days/year and riders have access to all bikes in the network when they become a member or purchase a pass."
   ]
  },
  {
   "cell_type": "code",
   "execution_count": 2,
   "metadata": {
    "slideshow": {
     "slide_type": "-"
    }
   },
   "outputs": [],
   "source": [
    "# import all packages and set plots to be embedded inline\n",
    "import numpy as np\n",
    "import pandas as pd\n",
    "import matplotlib.pyplot as plt\n",
    "import seaborn as sb\n",
    "\n",
    "%matplotlib inline"
   ]
  },
  {
   "cell_type": "markdown",
   "metadata": {},
   "source": [
    "<a id='gather'></a>\n",
    "## Preliminary Wrangling"
   ]
  },
  {
   "cell_type": "markdown",
   "metadata": {},
   "source": [
    "### Load the Dataset"
   ]
  },
  {
   "cell_type": "code",
   "execution_count": 3,
   "metadata": {},
   "outputs": [],
   "source": [
    "ford = pd.read_csv('201801-fordgobike-tripdata.csv')"
   ]
  },
  {
   "cell_type": "code",
   "execution_count": 4,
   "metadata": {},
   "outputs": [
    {
     "data": {
      "text/plain": [
       "(94802, 14)"
      ]
     },
     "execution_count": 4,
     "metadata": {},
     "output_type": "execute_result"
    }
   ],
   "source": [
    "ford.shape"
   ]
  },
  {
   "cell_type": "markdown",
   "metadata": {},
   "source": [
    "### Visual Assessment"
   ]
  },
  {
   "cell_type": "code",
   "execution_count": 5,
   "metadata": {},
   "outputs": [
    {
     "data": {
      "text/html": [
       "<div>\n",
       "<style scoped>\n",
       "    .dataframe tbody tr th:only-of-type {\n",
       "        vertical-align: middle;\n",
       "    }\n",
       "\n",
       "    .dataframe tbody tr th {\n",
       "        vertical-align: top;\n",
       "    }\n",
       "\n",
       "    .dataframe thead th {\n",
       "        text-align: right;\n",
       "    }\n",
       "</style>\n",
       "<table border=\"1\" class=\"dataframe\">\n",
       "  <thead>\n",
       "    <tr style=\"text-align: right;\">\n",
       "      <th></th>\n",
       "      <th>duration_sec</th>\n",
       "      <th>start_time</th>\n",
       "      <th>end_time</th>\n",
       "      <th>start_station_id</th>\n",
       "      <th>start_station_name</th>\n",
       "      <th>start_station_latitude</th>\n",
       "      <th>start_station_longitude</th>\n",
       "      <th>end_station_id</th>\n",
       "      <th>end_station_name</th>\n",
       "      <th>end_station_latitude</th>\n",
       "      <th>end_station_longitude</th>\n",
       "      <th>bike_id</th>\n",
       "      <th>user_type</th>\n",
       "      <th>bike_share_for_all_trip</th>\n",
       "    </tr>\n",
       "  </thead>\n",
       "  <tbody>\n",
       "    <tr>\n",
       "      <th>93373</th>\n",
       "      <td>246</td>\n",
       "      <td>2018-01-02 06:33:08.8560</td>\n",
       "      <td>2018-01-02 06:37:15.2100</td>\n",
       "      <td>15</td>\n",
       "      <td>San Francisco Ferry Building (Harry Bridges Pl...</td>\n",
       "      <td>37.795392</td>\n",
       "      <td>-122.394203</td>\n",
       "      <td>20</td>\n",
       "      <td>Mechanics Monument Plaza (Market St at Bush St)</td>\n",
       "      <td>37.791300</td>\n",
       "      <td>-122.399051</td>\n",
       "      <td>2860</td>\n",
       "      <td>Subscriber</td>\n",
       "      <td>No</td>\n",
       "    </tr>\n",
       "    <tr>\n",
       "      <th>75760</th>\n",
       "      <td>779</td>\n",
       "      <td>2018-01-09 16:43:41.7450</td>\n",
       "      <td>2018-01-09 16:56:41.0970</td>\n",
       "      <td>11</td>\n",
       "      <td>Davis St at Jackson St</td>\n",
       "      <td>37.797280</td>\n",
       "      <td>-122.398436</td>\n",
       "      <td>81</td>\n",
       "      <td>Berry St at 4th St</td>\n",
       "      <td>37.775880</td>\n",
       "      <td>-122.393170</td>\n",
       "      <td>2072</td>\n",
       "      <td>Subscriber</td>\n",
       "      <td>No</td>\n",
       "    </tr>\n",
       "    <tr>\n",
       "      <th>76599</th>\n",
       "      <td>450</td>\n",
       "      <td>2018-01-09 10:51:15.1210</td>\n",
       "      <td>2018-01-09 10:58:46.0050</td>\n",
       "      <td>13</td>\n",
       "      <td>Commercial St at Montgomery St</td>\n",
       "      <td>37.794231</td>\n",
       "      <td>-122.402923</td>\n",
       "      <td>28</td>\n",
       "      <td>The Embarcadero at Bryant St</td>\n",
       "      <td>37.787168</td>\n",
       "      <td>-122.388098</td>\n",
       "      <td>2016</td>\n",
       "      <td>Subscriber</td>\n",
       "      <td>No</td>\n",
       "    </tr>\n",
       "    <tr>\n",
       "      <th>24282</th>\n",
       "      <td>802</td>\n",
       "      <td>2018-01-25 12:31:47.4420</td>\n",
       "      <td>2018-01-25 12:45:09.8830</td>\n",
       "      <td>107</td>\n",
       "      <td>17th St at Dolores St</td>\n",
       "      <td>37.763015</td>\n",
       "      <td>-122.426497</td>\n",
       "      <td>3</td>\n",
       "      <td>Powell St BART Station (Market St at 4th St)</td>\n",
       "      <td>37.786375</td>\n",
       "      <td>-122.404904</td>\n",
       "      <td>3574</td>\n",
       "      <td>Customer</td>\n",
       "      <td>No</td>\n",
       "    </tr>\n",
       "    <tr>\n",
       "      <th>38615</th>\n",
       "      <td>246</td>\n",
       "      <td>2018-01-21 12:41:43.0870</td>\n",
       "      <td>2018-01-21 12:45:49.1460</td>\n",
       "      <td>248</td>\n",
       "      <td>Telegraph Ave at Ashby Ave</td>\n",
       "      <td>37.855956</td>\n",
       "      <td>-122.259795</td>\n",
       "      <td>249</td>\n",
       "      <td>Russell St at College Ave</td>\n",
       "      <td>37.858473</td>\n",
       "      <td>-122.253253</td>\n",
       "      <td>1989</td>\n",
       "      <td>Subscriber</td>\n",
       "      <td>No</td>\n",
       "    </tr>\n",
       "    <tr>\n",
       "      <th>11490</th>\n",
       "      <td>294</td>\n",
       "      <td>2018-01-29 13:56:14.4410</td>\n",
       "      <td>2018-01-29 14:01:09.2090</td>\n",
       "      <td>266</td>\n",
       "      <td>Parker St at Fulton St</td>\n",
       "      <td>37.862464</td>\n",
       "      <td>-122.264791</td>\n",
       "      <td>241</td>\n",
       "      <td>Ashby BART Station</td>\n",
       "      <td>37.852477</td>\n",
       "      <td>-122.270213</td>\n",
       "      <td>3719</td>\n",
       "      <td>Subscriber</td>\n",
       "      <td>No</td>\n",
       "    </tr>\n",
       "    <tr>\n",
       "      <th>61137</th>\n",
       "      <td>189</td>\n",
       "      <td>2018-01-13 18:33:08.9540</td>\n",
       "      <td>2018-01-13 18:36:18.7440</td>\n",
       "      <td>26</td>\n",
       "      <td>1st St at Folsom St</td>\n",
       "      <td>37.787290</td>\n",
       "      <td>-122.394380</td>\n",
       "      <td>284</td>\n",
       "      <td>Yerba Buena Center for the Arts (Howard St at ...</td>\n",
       "      <td>37.784872</td>\n",
       "      <td>-122.400876</td>\n",
       "      <td>2205</td>\n",
       "      <td>Subscriber</td>\n",
       "      <td>No</td>\n",
       "    </tr>\n",
       "    <tr>\n",
       "      <th>52028</th>\n",
       "      <td>764</td>\n",
       "      <td>2018-01-17 08:11:16.1270</td>\n",
       "      <td>2018-01-17 08:24:00.8140</td>\n",
       "      <td>67</td>\n",
       "      <td>San Francisco Caltrain Station 2  (Townsend St...</td>\n",
       "      <td>37.776639</td>\n",
       "      <td>-122.395526</td>\n",
       "      <td>59</td>\n",
       "      <td>S Van Ness Ave at Market St</td>\n",
       "      <td>37.774814</td>\n",
       "      <td>-122.418954</td>\n",
       "      <td>1539</td>\n",
       "      <td>Subscriber</td>\n",
       "      <td>No</td>\n",
       "    </tr>\n",
       "    <tr>\n",
       "      <th>89426</th>\n",
       "      <td>953</td>\n",
       "      <td>2018-01-03 08:41:13.3180</td>\n",
       "      <td>2018-01-03 08:57:07.1480</td>\n",
       "      <td>31</td>\n",
       "      <td>Raymond Kimbell Playground</td>\n",
       "      <td>37.783813</td>\n",
       "      <td>-122.434559</td>\n",
       "      <td>321</td>\n",
       "      <td>5th at Folsom</td>\n",
       "      <td>37.780146</td>\n",
       "      <td>-122.403071</td>\n",
       "      <td>2901</td>\n",
       "      <td>Subscriber</td>\n",
       "      <td>No</td>\n",
       "    </tr>\n",
       "    <tr>\n",
       "      <th>66630</th>\n",
       "      <td>523</td>\n",
       "      <td>2018-01-12 06:45:41.7990</td>\n",
       "      <td>2018-01-12 06:54:25.2970</td>\n",
       "      <td>30</td>\n",
       "      <td>San Francisco Caltrain (Townsend St at 4th St)</td>\n",
       "      <td>37.776598</td>\n",
       "      <td>-122.395282</td>\n",
       "      <td>17</td>\n",
       "      <td>Embarcadero BART Station (Beale St at Market St)</td>\n",
       "      <td>37.792251</td>\n",
       "      <td>-122.397086</td>\n",
       "      <td>2685</td>\n",
       "      <td>Subscriber</td>\n",
       "      <td>No</td>\n",
       "    </tr>\n",
       "    <tr>\n",
       "      <th>19663</th>\n",
       "      <td>966</td>\n",
       "      <td>2018-01-26 16:09:42.0980</td>\n",
       "      <td>2018-01-26 16:25:48.9370</td>\n",
       "      <td>137</td>\n",
       "      <td>Jersey St at Castro St</td>\n",
       "      <td>37.750506</td>\n",
       "      <td>-122.433950</td>\n",
       "      <td>137</td>\n",
       "      <td>Jersey St at Castro St</td>\n",
       "      <td>37.750506</td>\n",
       "      <td>-122.433950</td>\n",
       "      <td>2202</td>\n",
       "      <td>Subscriber</td>\n",
       "      <td>No</td>\n",
       "    </tr>\n",
       "    <tr>\n",
       "      <th>43747</th>\n",
       "      <td>698</td>\n",
       "      <td>2018-01-19 12:34:53.0350</td>\n",
       "      <td>2018-01-19 12:46:31.4500</td>\n",
       "      <td>85</td>\n",
       "      <td>Church St at Duboce Ave</td>\n",
       "      <td>37.770083</td>\n",
       "      <td>-122.429156</td>\n",
       "      <td>61</td>\n",
       "      <td>Howard St at 8th St</td>\n",
       "      <td>37.776513</td>\n",
       "      <td>-122.411306</td>\n",
       "      <td>2793</td>\n",
       "      <td>Subscriber</td>\n",
       "      <td>No</td>\n",
       "    </tr>\n",
       "    <tr>\n",
       "      <th>70066</th>\n",
       "      <td>342</td>\n",
       "      <td>2018-01-11 08:41:32.3950</td>\n",
       "      <td>2018-01-11 08:47:15.1740</td>\n",
       "      <td>15</td>\n",
       "      <td>San Francisco Ferry Building (Harry Bridges Pl...</td>\n",
       "      <td>37.795392</td>\n",
       "      <td>-122.394203</td>\n",
       "      <td>6</td>\n",
       "      <td>The Embarcadero at Sansome St</td>\n",
       "      <td>37.804770</td>\n",
       "      <td>-122.403234</td>\n",
       "      <td>2317</td>\n",
       "      <td>Subscriber</td>\n",
       "      <td>No</td>\n",
       "    </tr>\n",
       "    <tr>\n",
       "      <th>65010</th>\n",
       "      <td>134</td>\n",
       "      <td>2018-01-12 12:47:52.0480</td>\n",
       "      <td>2018-01-12 12:50:06.7900</td>\n",
       "      <td>22</td>\n",
       "      <td>Howard St at Beale St</td>\n",
       "      <td>37.789756</td>\n",
       "      <td>-122.394643</td>\n",
       "      <td>25</td>\n",
       "      <td>Howard St at 2nd St</td>\n",
       "      <td>37.787522</td>\n",
       "      <td>-122.397405</td>\n",
       "      <td>2806</td>\n",
       "      <td>Subscriber</td>\n",
       "      <td>No</td>\n",
       "    </tr>\n",
       "    <tr>\n",
       "      <th>85248</th>\n",
       "      <td>178</td>\n",
       "      <td>2018-01-04 16:40:40.7460</td>\n",
       "      <td>2018-01-04 16:43:39.0580</td>\n",
       "      <td>125</td>\n",
       "      <td>20th St at Bryant St</td>\n",
       "      <td>37.759200</td>\n",
       "      <td>-122.409851</td>\n",
       "      <td>112</td>\n",
       "      <td>Harrison St at 17th St</td>\n",
       "      <td>37.763847</td>\n",
       "      <td>-122.413004</td>\n",
       "      <td>254</td>\n",
       "      <td>Subscriber</td>\n",
       "      <td>No</td>\n",
       "    </tr>\n",
       "    <tr>\n",
       "      <th>45668</th>\n",
       "      <td>868</td>\n",
       "      <td>2018-01-18 20:39:20.5650</td>\n",
       "      <td>2018-01-18 20:53:49.1990</td>\n",
       "      <td>176</td>\n",
       "      <td>MacArthur BART Station</td>\n",
       "      <td>37.828410</td>\n",
       "      <td>-122.266315</td>\n",
       "      <td>156</td>\n",
       "      <td>Stanford Ave at Hollis St</td>\n",
       "      <td>37.838443</td>\n",
       "      <td>-122.288665</td>\n",
       "      <td>1528</td>\n",
       "      <td>Subscriber</td>\n",
       "      <td>No</td>\n",
       "    </tr>\n",
       "    <tr>\n",
       "      <th>48828</th>\n",
       "      <td>606</td>\n",
       "      <td>2018-01-17 18:47:34.4020</td>\n",
       "      <td>2018-01-17 18:57:40.6290</td>\n",
       "      <td>66</td>\n",
       "      <td>3rd St at Townsend St</td>\n",
       "      <td>37.778742</td>\n",
       "      <td>-122.392741</td>\n",
       "      <td>15</td>\n",
       "      <td>San Francisco Ferry Building (Harry Bridges Pl...</td>\n",
       "      <td>37.795392</td>\n",
       "      <td>-122.394203</td>\n",
       "      <td>746</td>\n",
       "      <td>Subscriber</td>\n",
       "      <td>No</td>\n",
       "    </tr>\n",
       "    <tr>\n",
       "      <th>81485</th>\n",
       "      <td>382</td>\n",
       "      <td>2018-01-06 11:24:07.0730</td>\n",
       "      <td>2018-01-06 11:30:29.3600</td>\n",
       "      <td>285</td>\n",
       "      <td>Webster St at O'Farrell St</td>\n",
       "      <td>37.783521</td>\n",
       "      <td>-122.431158</td>\n",
       "      <td>74</td>\n",
       "      <td>Laguna St at Hayes St</td>\n",
       "      <td>37.776435</td>\n",
       "      <td>-122.426244</td>\n",
       "      <td>1110</td>\n",
       "      <td>Subscriber</td>\n",
       "      <td>No</td>\n",
       "    </tr>\n",
       "    <tr>\n",
       "      <th>84132</th>\n",
       "      <td>473</td>\n",
       "      <td>2018-01-04 20:49:26.0320</td>\n",
       "      <td>2018-01-04 20:57:19.9450</td>\n",
       "      <td>115</td>\n",
       "      <td>Jackson Playground</td>\n",
       "      <td>37.765026</td>\n",
       "      <td>-122.398773</td>\n",
       "      <td>112</td>\n",
       "      <td>Harrison St at 17th St</td>\n",
       "      <td>37.763847</td>\n",
       "      <td>-122.413004</td>\n",
       "      <td>1568</td>\n",
       "      <td>Subscriber</td>\n",
       "      <td>No</td>\n",
       "    </tr>\n",
       "    <tr>\n",
       "      <th>52670</th>\n",
       "      <td>403</td>\n",
       "      <td>2018-01-16 22:41:26.9740</td>\n",
       "      <td>2018-01-16 22:48:10.6200</td>\n",
       "      <td>311</td>\n",
       "      <td>Paseo De San Antonio at 2nd St</td>\n",
       "      <td>37.333798</td>\n",
       "      <td>-121.886943</td>\n",
       "      <td>296</td>\n",
       "      <td>5th St at Virginia St</td>\n",
       "      <td>37.325998</td>\n",
       "      <td>-121.877120</td>\n",
       "      <td>282</td>\n",
       "      <td>Subscriber</td>\n",
       "      <td>Yes</td>\n",
       "    </tr>\n",
       "  </tbody>\n",
       "</table>\n",
       "</div>"
      ],
      "text/plain": [
       "       duration_sec                start_time                  end_time  \\\n",
       "93373           246  2018-01-02 06:33:08.8560  2018-01-02 06:37:15.2100   \n",
       "75760           779  2018-01-09 16:43:41.7450  2018-01-09 16:56:41.0970   \n",
       "76599           450  2018-01-09 10:51:15.1210  2018-01-09 10:58:46.0050   \n",
       "24282           802  2018-01-25 12:31:47.4420  2018-01-25 12:45:09.8830   \n",
       "38615           246  2018-01-21 12:41:43.0870  2018-01-21 12:45:49.1460   \n",
       "11490           294  2018-01-29 13:56:14.4410  2018-01-29 14:01:09.2090   \n",
       "61137           189  2018-01-13 18:33:08.9540  2018-01-13 18:36:18.7440   \n",
       "52028           764  2018-01-17 08:11:16.1270  2018-01-17 08:24:00.8140   \n",
       "89426           953  2018-01-03 08:41:13.3180  2018-01-03 08:57:07.1480   \n",
       "66630           523  2018-01-12 06:45:41.7990  2018-01-12 06:54:25.2970   \n",
       "19663           966  2018-01-26 16:09:42.0980  2018-01-26 16:25:48.9370   \n",
       "43747           698  2018-01-19 12:34:53.0350  2018-01-19 12:46:31.4500   \n",
       "70066           342  2018-01-11 08:41:32.3950  2018-01-11 08:47:15.1740   \n",
       "65010           134  2018-01-12 12:47:52.0480  2018-01-12 12:50:06.7900   \n",
       "85248           178  2018-01-04 16:40:40.7460  2018-01-04 16:43:39.0580   \n",
       "45668           868  2018-01-18 20:39:20.5650  2018-01-18 20:53:49.1990   \n",
       "48828           606  2018-01-17 18:47:34.4020  2018-01-17 18:57:40.6290   \n",
       "81485           382  2018-01-06 11:24:07.0730  2018-01-06 11:30:29.3600   \n",
       "84132           473  2018-01-04 20:49:26.0320  2018-01-04 20:57:19.9450   \n",
       "52670           403  2018-01-16 22:41:26.9740  2018-01-16 22:48:10.6200   \n",
       "\n",
       "       start_station_id                                 start_station_name  \\\n",
       "93373                15  San Francisco Ferry Building (Harry Bridges Pl...   \n",
       "75760                11                             Davis St at Jackson St   \n",
       "76599                13                     Commercial St at Montgomery St   \n",
       "24282               107                              17th St at Dolores St   \n",
       "38615               248                         Telegraph Ave at Ashby Ave   \n",
       "11490               266                             Parker St at Fulton St   \n",
       "61137                26                                1st St at Folsom St   \n",
       "52028                67  San Francisco Caltrain Station 2  (Townsend St...   \n",
       "89426                31                         Raymond Kimbell Playground   \n",
       "66630                30     San Francisco Caltrain (Townsend St at 4th St)   \n",
       "19663               137                             Jersey St at Castro St   \n",
       "43747                85                            Church St at Duboce Ave   \n",
       "70066                15  San Francisco Ferry Building (Harry Bridges Pl...   \n",
       "65010                22                              Howard St at Beale St   \n",
       "85248               125                               20th St at Bryant St   \n",
       "45668               176                             MacArthur BART Station   \n",
       "48828                66                              3rd St at Townsend St   \n",
       "81485               285                         Webster St at O'Farrell St   \n",
       "84132               115                                 Jackson Playground   \n",
       "52670               311                     Paseo De San Antonio at 2nd St   \n",
       "\n",
       "       start_station_latitude  start_station_longitude  end_station_id  \\\n",
       "93373               37.795392              -122.394203              20   \n",
       "75760               37.797280              -122.398436              81   \n",
       "76599               37.794231              -122.402923              28   \n",
       "24282               37.763015              -122.426497               3   \n",
       "38615               37.855956              -122.259795             249   \n",
       "11490               37.862464              -122.264791             241   \n",
       "61137               37.787290              -122.394380             284   \n",
       "52028               37.776639              -122.395526              59   \n",
       "89426               37.783813              -122.434559             321   \n",
       "66630               37.776598              -122.395282              17   \n",
       "19663               37.750506              -122.433950             137   \n",
       "43747               37.770083              -122.429156              61   \n",
       "70066               37.795392              -122.394203               6   \n",
       "65010               37.789756              -122.394643              25   \n",
       "85248               37.759200              -122.409851             112   \n",
       "45668               37.828410              -122.266315             156   \n",
       "48828               37.778742              -122.392741              15   \n",
       "81485               37.783521              -122.431158              74   \n",
       "84132               37.765026              -122.398773             112   \n",
       "52670               37.333798              -121.886943             296   \n",
       "\n",
       "                                        end_station_name  \\\n",
       "93373    Mechanics Monument Plaza (Market St at Bush St)   \n",
       "75760                                 Berry St at 4th St   \n",
       "76599                       The Embarcadero at Bryant St   \n",
       "24282       Powell St BART Station (Market St at 4th St)   \n",
       "38615                          Russell St at College Ave   \n",
       "11490                                 Ashby BART Station   \n",
       "61137  Yerba Buena Center for the Arts (Howard St at ...   \n",
       "52028                        S Van Ness Ave at Market St   \n",
       "89426                                      5th at Folsom   \n",
       "66630   Embarcadero BART Station (Beale St at Market St)   \n",
       "19663                             Jersey St at Castro St   \n",
       "43747                                Howard St at 8th St   \n",
       "70066                      The Embarcadero at Sansome St   \n",
       "65010                                Howard St at 2nd St   \n",
       "85248                             Harrison St at 17th St   \n",
       "45668                          Stanford Ave at Hollis St   \n",
       "48828  San Francisco Ferry Building (Harry Bridges Pl...   \n",
       "81485                              Laguna St at Hayes St   \n",
       "84132                             Harrison St at 17th St   \n",
       "52670                              5th St at Virginia St   \n",
       "\n",
       "       end_station_latitude  end_station_longitude  bike_id   user_type  \\\n",
       "93373             37.791300            -122.399051     2860  Subscriber   \n",
       "75760             37.775880            -122.393170     2072  Subscriber   \n",
       "76599             37.787168            -122.388098     2016  Subscriber   \n",
       "24282             37.786375            -122.404904     3574    Customer   \n",
       "38615             37.858473            -122.253253     1989  Subscriber   \n",
       "11490             37.852477            -122.270213     3719  Subscriber   \n",
       "61137             37.784872            -122.400876     2205  Subscriber   \n",
       "52028             37.774814            -122.418954     1539  Subscriber   \n",
       "89426             37.780146            -122.403071     2901  Subscriber   \n",
       "66630             37.792251            -122.397086     2685  Subscriber   \n",
       "19663             37.750506            -122.433950     2202  Subscriber   \n",
       "43747             37.776513            -122.411306     2793  Subscriber   \n",
       "70066             37.804770            -122.403234     2317  Subscriber   \n",
       "65010             37.787522            -122.397405     2806  Subscriber   \n",
       "85248             37.763847            -122.413004      254  Subscriber   \n",
       "45668             37.838443            -122.288665     1528  Subscriber   \n",
       "48828             37.795392            -122.394203      746  Subscriber   \n",
       "81485             37.776435            -122.426244     1110  Subscriber   \n",
       "84132             37.763847            -122.413004     1568  Subscriber   \n",
       "52670             37.325998            -121.877120      282  Subscriber   \n",
       "\n",
       "      bike_share_for_all_trip  \n",
       "93373                      No  \n",
       "75760                      No  \n",
       "76599                      No  \n",
       "24282                      No  \n",
       "38615                      No  \n",
       "11490                      No  \n",
       "61137                      No  \n",
       "52028                      No  \n",
       "89426                      No  \n",
       "66630                      No  \n",
       "19663                      No  \n",
       "43747                      No  \n",
       "70066                      No  \n",
       "65010                      No  \n",
       "85248                      No  \n",
       "45668                      No  \n",
       "48828                      No  \n",
       "81485                      No  \n",
       "84132                      No  \n",
       "52670                     Yes  "
      ]
     },
     "execution_count": 5,
     "metadata": {},
     "output_type": "execute_result"
    }
   ],
   "source": [
    "ford.sample(20)"
   ]
  },
  {
   "cell_type": "code",
   "execution_count": 6,
   "metadata": {},
   "outputs": [
    {
     "data": {
      "text/plain": [
       "(94802, 14)"
      ]
     },
     "execution_count": 6,
     "metadata": {},
     "output_type": "execute_result"
    }
   ],
   "source": [
    "ford.shape"
   ]
  },
  {
   "cell_type": "code",
   "execution_count": 7,
   "metadata": {},
   "outputs": [
    {
     "name": "stdout",
     "output_type": "stream",
     "text": [
      "<class 'pandas.core.frame.DataFrame'>\n",
      "RangeIndex: 94802 entries, 0 to 94801\n",
      "Data columns (total 14 columns):\n",
      " #   Column                   Non-Null Count  Dtype  \n",
      "---  ------                   --------------  -----  \n",
      " 0   duration_sec             94802 non-null  int64  \n",
      " 1   start_time               94802 non-null  object \n",
      " 2   end_time                 94802 non-null  object \n",
      " 3   start_station_id         94802 non-null  int64  \n",
      " 4   start_station_name       94802 non-null  object \n",
      " 5   start_station_latitude   94802 non-null  float64\n",
      " 6   start_station_longitude  94802 non-null  float64\n",
      " 7   end_station_id           94802 non-null  int64  \n",
      " 8   end_station_name         94802 non-null  object \n",
      " 9   end_station_latitude     94802 non-null  float64\n",
      " 10  end_station_longitude    94802 non-null  float64\n",
      " 11  bike_id                  94802 non-null  int64  \n",
      " 12  user_type                94802 non-null  object \n",
      " 13  bike_share_for_all_trip  94802 non-null  object \n",
      "dtypes: float64(4), int64(4), object(6)\n",
      "memory usage: 8.0+ MB\n"
     ]
    }
   ],
   "source": [
    "ford.info()"
   ]
  },
  {
   "cell_type": "code",
   "execution_count": 8,
   "metadata": {},
   "outputs": [
    {
     "data": {
      "text/html": [
       "<div>\n",
       "<style scoped>\n",
       "    .dataframe tbody tr th:only-of-type {\n",
       "        vertical-align: middle;\n",
       "    }\n",
       "\n",
       "    .dataframe tbody tr th {\n",
       "        vertical-align: top;\n",
       "    }\n",
       "\n",
       "    .dataframe thead th {\n",
       "        text-align: right;\n",
       "    }\n",
       "</style>\n",
       "<table border=\"1\" class=\"dataframe\">\n",
       "  <thead>\n",
       "    <tr style=\"text-align: right;\">\n",
       "      <th></th>\n",
       "      <th>duration_sec</th>\n",
       "      <th>start_station_id</th>\n",
       "      <th>start_station_latitude</th>\n",
       "      <th>start_station_longitude</th>\n",
       "      <th>end_station_id</th>\n",
       "      <th>end_station_latitude</th>\n",
       "      <th>end_station_longitude</th>\n",
       "      <th>bike_id</th>\n",
       "    </tr>\n",
       "  </thead>\n",
       "  <tbody>\n",
       "    <tr>\n",
       "      <th>count</th>\n",
       "      <td>94802.000000</td>\n",
       "      <td>94802.000000</td>\n",
       "      <td>94802.000000</td>\n",
       "      <td>94802.000000</td>\n",
       "      <td>94802.00000</td>\n",
       "      <td>94802.000000</td>\n",
       "      <td>94802.000000</td>\n",
       "      <td>94802.000000</td>\n",
       "    </tr>\n",
       "    <tr>\n",
       "      <th>mean</th>\n",
       "      <td>870.935930</td>\n",
       "      <td>103.766302</td>\n",
       "      <td>37.773321</td>\n",
       "      <td>-122.361677</td>\n",
       "      <td>101.00982</td>\n",
       "      <td>37.773536</td>\n",
       "      <td>-122.360776</td>\n",
       "      <td>2048.751609</td>\n",
       "    </tr>\n",
       "    <tr>\n",
       "      <th>std</th>\n",
       "      <td>2550.596891</td>\n",
       "      <td>87.730464</td>\n",
       "      <td>0.085744</td>\n",
       "      <td>0.105253</td>\n",
       "      <td>86.77949</td>\n",
       "      <td>0.085552</td>\n",
       "      <td>0.104580</td>\n",
       "      <td>1091.507513</td>\n",
       "    </tr>\n",
       "    <tr>\n",
       "      <th>min</th>\n",
       "      <td>61.000000</td>\n",
       "      <td>3.000000</td>\n",
       "      <td>37.317298</td>\n",
       "      <td>-122.444293</td>\n",
       "      <td>3.00000</td>\n",
       "      <td>37.317298</td>\n",
       "      <td>-122.444293</td>\n",
       "      <td>11.000000</td>\n",
       "    </tr>\n",
       "    <tr>\n",
       "      <th>25%</th>\n",
       "      <td>359.000000</td>\n",
       "      <td>30.000000</td>\n",
       "      <td>37.771662</td>\n",
       "      <td>-122.412408</td>\n",
       "      <td>27.00000</td>\n",
       "      <td>37.773063</td>\n",
       "      <td>-122.411306</td>\n",
       "      <td>1133.000000</td>\n",
       "    </tr>\n",
       "    <tr>\n",
       "      <th>50%</th>\n",
       "      <td>555.000000</td>\n",
       "      <td>79.000000</td>\n",
       "      <td>37.781270</td>\n",
       "      <td>-122.398773</td>\n",
       "      <td>76.00000</td>\n",
       "      <td>37.781752</td>\n",
       "      <td>-122.398436</td>\n",
       "      <td>2151.500000</td>\n",
       "    </tr>\n",
       "    <tr>\n",
       "      <th>75%</th>\n",
       "      <td>854.000000</td>\n",
       "      <td>160.000000</td>\n",
       "      <td>37.795392</td>\n",
       "      <td>-122.390428</td>\n",
       "      <td>157.00000</td>\n",
       "      <td>37.795392</td>\n",
       "      <td>-122.390428</td>\n",
       "      <td>3015.000000</td>\n",
       "    </tr>\n",
       "    <tr>\n",
       "      <th>max</th>\n",
       "      <td>85546.000000</td>\n",
       "      <td>342.000000</td>\n",
       "      <td>37.880222</td>\n",
       "      <td>-121.874119</td>\n",
       "      <td>342.00000</td>\n",
       "      <td>37.880222</td>\n",
       "      <td>-121.874119</td>\n",
       "      <td>3744.000000</td>\n",
       "    </tr>\n",
       "  </tbody>\n",
       "</table>\n",
       "</div>"
      ],
      "text/plain": [
       "       duration_sec  start_station_id  start_station_latitude  \\\n",
       "count  94802.000000      94802.000000            94802.000000   \n",
       "mean     870.935930        103.766302               37.773321   \n",
       "std     2550.596891         87.730464                0.085744   \n",
       "min       61.000000          3.000000               37.317298   \n",
       "25%      359.000000         30.000000               37.771662   \n",
       "50%      555.000000         79.000000               37.781270   \n",
       "75%      854.000000        160.000000               37.795392   \n",
       "max    85546.000000        342.000000               37.880222   \n",
       "\n",
       "       start_station_longitude  end_station_id  end_station_latitude  \\\n",
       "count             94802.000000     94802.00000          94802.000000   \n",
       "mean               -122.361677       101.00982             37.773536   \n",
       "std                   0.105253        86.77949              0.085552   \n",
       "min                -122.444293         3.00000             37.317298   \n",
       "25%                -122.412408        27.00000             37.773063   \n",
       "50%                -122.398773        76.00000             37.781752   \n",
       "75%                -122.390428       157.00000             37.795392   \n",
       "max                -121.874119       342.00000             37.880222   \n",
       "\n",
       "       end_station_longitude       bike_id  \n",
       "count           94802.000000  94802.000000  \n",
       "mean             -122.360776   2048.751609  \n",
       "std                 0.104580   1091.507513  \n",
       "min              -122.444293     11.000000  \n",
       "25%              -122.411306   1133.000000  \n",
       "50%              -122.398436   2151.500000  \n",
       "75%              -122.390428   3015.000000  \n",
       "max              -121.874119   3744.000000  "
      ]
     },
     "execution_count": 8,
     "metadata": {},
     "output_type": "execute_result"
    }
   ],
   "source": [
    "ford.describe()"
   ]
  },
  {
   "cell_type": "code",
   "execution_count": 9,
   "metadata": {},
   "outputs": [
    {
     "data": {
      "text/plain": [
       "0"
      ]
     },
     "execution_count": 9,
     "metadata": {},
     "output_type": "execute_result"
    }
   ],
   "source": [
    "ford.duplicated().sum()"
   ]
  },
  {
   "cell_type": "code",
   "execution_count": 10,
   "metadata": {},
   "outputs": [
    {
     "data": {
      "text/plain": [
       "duration_sec               0\n",
       "start_time                 0\n",
       "end_time                   0\n",
       "start_station_id           0\n",
       "start_station_name         0\n",
       "start_station_latitude     0\n",
       "start_station_longitude    0\n",
       "end_station_id             0\n",
       "end_station_name           0\n",
       "end_station_latitude       0\n",
       "end_station_longitude      0\n",
       "bike_id                    0\n",
       "user_type                  0\n",
       "bike_share_for_all_trip    0\n",
       "dtype: int64"
      ]
     },
     "execution_count": 10,
     "metadata": {},
     "output_type": "execute_result"
    }
   ],
   "source": [
    "ford.isna().sum()"
   ]
  },
  {
   "cell_type": "markdown",
   "metadata": {},
   "source": [
    "<a id='assess_summary'></a>\n",
    "## Assessment Summary"
   ]
  },
  {
   "cell_type": "markdown",
   "metadata": {},
   "source": [
    "- Relatively the data is clean and does not need much attention for cleaning purpose.\n",
    "- The data type of the start_time and end_time features,It should be converted to datetime object.\n",
    "- The user_type and the bike_share_for_all_trip should be converted to categorical variables.\n",
    "- We can use the datetime object to extract more specific information about the month,weekday etc.\n",
    "- We can calculate the total displacement with the help of the difference between the latlang of source and destination."
   ]
  },
  {
   "cell_type": "markdown",
   "metadata": {},
   "source": [
    "<a id='clean'></a>\n",
    "### Cleaning the Dataset"
   ]
  },
  {
   "cell_type": "code",
   "execution_count": 11,
   "metadata": {},
   "outputs": [],
   "source": [
    "ford['start_time'] = pd.to_datetime(ford['start_time'])"
   ]
  },
  {
   "cell_type": "code",
   "execution_count": 12,
   "metadata": {},
   "outputs": [],
   "source": [
    "ford['end_time'] = pd.to_datetime(ford['end_time'])"
   ]
  },
  {
   "cell_type": "code",
   "execution_count": 13,
   "metadata": {},
   "outputs": [
    {
     "name": "stdout",
     "output_type": "stream",
     "text": [
      "<class 'pandas.core.frame.DataFrame'>\n",
      "RangeIndex: 94802 entries, 0 to 94801\n",
      "Data columns (total 14 columns):\n",
      " #   Column                   Non-Null Count  Dtype         \n",
      "---  ------                   --------------  -----         \n",
      " 0   duration_sec             94802 non-null  int64         \n",
      " 1   start_time               94802 non-null  datetime64[ns]\n",
      " 2   end_time                 94802 non-null  datetime64[ns]\n",
      " 3   start_station_id         94802 non-null  int64         \n",
      " 4   start_station_name       94802 non-null  object        \n",
      " 5   start_station_latitude   94802 non-null  float64       \n",
      " 6   start_station_longitude  94802 non-null  float64       \n",
      " 7   end_station_id           94802 non-null  int64         \n",
      " 8   end_station_name         94802 non-null  object        \n",
      " 9   end_station_latitude     94802 non-null  float64       \n",
      " 10  end_station_longitude    94802 non-null  float64       \n",
      " 11  bike_id                  94802 non-null  int64         \n",
      " 12  user_type                94802 non-null  object        \n",
      " 13  bike_share_for_all_trip  94802 non-null  object        \n",
      "dtypes: datetime64[ns](2), float64(4), int64(4), object(4)\n",
      "memory usage: 8.7+ MB\n"
     ]
    }
   ],
   "source": [
    "ford.info()"
   ]
  },
  {
   "cell_type": "code",
   "execution_count": 14,
   "metadata": {},
   "outputs": [],
   "source": [
    "ford['user_type'] = ford['user_type'].astype('category')"
   ]
  },
  {
   "cell_type": "code",
   "execution_count": 15,
   "metadata": {},
   "outputs": [],
   "source": [
    "ford['bike_share_for_all_trip'] = ford['bike_share_for_all_trip'].astype('category')"
   ]
  },
  {
   "cell_type": "code",
   "execution_count": 16,
   "metadata": {},
   "outputs": [
    {
     "name": "stdout",
     "output_type": "stream",
     "text": [
      "<class 'pandas.core.frame.DataFrame'>\n",
      "RangeIndex: 94802 entries, 0 to 94801\n",
      "Data columns (total 14 columns):\n",
      " #   Column                   Non-Null Count  Dtype         \n",
      "---  ------                   --------------  -----         \n",
      " 0   duration_sec             94802 non-null  int64         \n",
      " 1   start_time               94802 non-null  datetime64[ns]\n",
      " 2   end_time                 94802 non-null  datetime64[ns]\n",
      " 3   start_station_id         94802 non-null  int64         \n",
      " 4   start_station_name       94802 non-null  object        \n",
      " 5   start_station_latitude   94802 non-null  float64       \n",
      " 6   start_station_longitude  94802 non-null  float64       \n",
      " 7   end_station_id           94802 non-null  int64         \n",
      " 8   end_station_name         94802 non-null  object        \n",
      " 9   end_station_latitude     94802 non-null  float64       \n",
      " 10  end_station_longitude    94802 non-null  float64       \n",
      " 11  bike_id                  94802 non-null  int64         \n",
      " 12  user_type                94802 non-null  category      \n",
      " 13  bike_share_for_all_trip  94802 non-null  category      \n",
      "dtypes: category(2), datetime64[ns](2), float64(4), int64(4), object(2)\n",
      "memory usage: 8.1+ MB\n"
     ]
    }
   ],
   "source": [
    "ford.info()"
   ]
  },
  {
   "cell_type": "code",
   "execution_count": 17,
   "metadata": {},
   "outputs": [],
   "source": [
    "ford['start_time_month'] = ford['start_time'].dt.strftime('%B')"
   ]
  },
  {
   "cell_type": "code",
   "execution_count": 18,
   "metadata": {},
   "outputs": [],
   "source": [
    "ford['start_time_month_num'] = ford['start_time'].dt.month.astype(int)"
   ]
  },
  {
   "cell_type": "code",
   "execution_count": 19,
   "metadata": {},
   "outputs": [],
   "source": [
    "ford['start_time_weekday'] = ford['start_time'].dt.strftime('%a')"
   ]
  },
  {
   "cell_type": "code",
   "execution_count": 20,
   "metadata": {},
   "outputs": [],
   "source": [
    "ford['start_time_hour'] = ford['start_time'].dt.hour\n",
    "ford['end_time_hour'] = ford['end_time'].dt.hour"
   ]
  },
  {
   "cell_type": "code",
   "execution_count": 21,
   "metadata": {},
   "outputs": [],
   "source": [
    "ford['duration_min'] = ford['duration_sec']/60\n",
    "ford['duration_min'] = ford['duration_min'].astype(int)"
   ]
  },
  {
   "cell_type": "code",
   "execution_count": 22,
   "metadata": {},
   "outputs": [
    {
     "name": "stdout",
     "output_type": "stream",
     "text": [
      "<class 'pandas.core.frame.DataFrame'>\n",
      "RangeIndex: 94802 entries, 0 to 94801\n",
      "Data columns (total 20 columns):\n",
      " #   Column                   Non-Null Count  Dtype         \n",
      "---  ------                   --------------  -----         \n",
      " 0   duration_sec             94802 non-null  int64         \n",
      " 1   start_time               94802 non-null  datetime64[ns]\n",
      " 2   end_time                 94802 non-null  datetime64[ns]\n",
      " 3   start_station_id         94802 non-null  int64         \n",
      " 4   start_station_name       94802 non-null  object        \n",
      " 5   start_station_latitude   94802 non-null  float64       \n",
      " 6   start_station_longitude  94802 non-null  float64       \n",
      " 7   end_station_id           94802 non-null  int64         \n",
      " 8   end_station_name         94802 non-null  object        \n",
      " 9   end_station_latitude     94802 non-null  float64       \n",
      " 10  end_station_longitude    94802 non-null  float64       \n",
      " 11  bike_id                  94802 non-null  int64         \n",
      " 12  user_type                94802 non-null  category      \n",
      " 13  bike_share_for_all_trip  94802 non-null  category      \n",
      " 14  start_time_month         94802 non-null  object        \n",
      " 15  start_time_month_num     94802 non-null  int32         \n",
      " 16  start_time_weekday       94802 non-null  object        \n",
      " 17  start_time_hour          94802 non-null  int64         \n",
      " 18  end_time_hour            94802 non-null  int64         \n",
      " 19  duration_min             94802 non-null  int32         \n",
      "dtypes: category(2), datetime64[ns](2), float64(4), int32(2), int64(6), object(4)\n",
      "memory usage: 11.0+ MB\n"
     ]
    }
   ],
   "source": [
    "ford.info()"
   ]
  },
  {
   "cell_type": "code",
   "execution_count": 23,
   "metadata": {},
   "outputs": [],
   "source": [
    "import math\n",
    "def distance(origin, destination):\n",
    "\n",
    "    lat1, long1 = origin\n",
    "    lat2, long2 = destination\n",
    "    radius = 6371\n",
    "    # this is in kilometers - will convert to US units of miles after\n",
    "\n",
    "    dlat = math.radians(lat2 - lat1)\n",
    "    dlong = math.radians(long2 - long1)\n",
    "    \n",
    "    a = (math.sin(dlat / 2) * math.sin(dlat / 2) + math.cos(math.radians(lat1)) * math.cos(math.radians(lat2)) * math.sin(dlong / 2) * math.sin(dlong / 2))\n",
    "    c = 2 * math.atan2(math.sqrt(a), math.sqrt(1 - a))\n",
    "    d = radius * c\n",
    "\n",
    "    return d"
   ]
  },
  {
   "cell_type": "code",
   "execution_count": 24,
   "metadata": {},
   "outputs": [],
   "source": [
    "ford['displacement_km'] = ford.apply(lambda x: distance((x['start_station_latitude'], x['start_station_longitude']), (x['end_station_latitude'], x['end_station_longitude'])), axis=1)"
   ]
  },
  {
   "cell_type": "code",
   "execution_count": 25,
   "metadata": {},
   "outputs": [
    {
     "data": {
      "text/html": [
       "<div>\n",
       "<style scoped>\n",
       "    .dataframe tbody tr th:only-of-type {\n",
       "        vertical-align: middle;\n",
       "    }\n",
       "\n",
       "    .dataframe tbody tr th {\n",
       "        vertical-align: top;\n",
       "    }\n",
       "\n",
       "    .dataframe thead th {\n",
       "        text-align: right;\n",
       "    }\n",
       "</style>\n",
       "<table border=\"1\" class=\"dataframe\">\n",
       "  <thead>\n",
       "    <tr style=\"text-align: right;\">\n",
       "      <th></th>\n",
       "      <th>duration_sec</th>\n",
       "      <th>start_time</th>\n",
       "      <th>end_time</th>\n",
       "      <th>start_station_id</th>\n",
       "      <th>start_station_name</th>\n",
       "      <th>start_station_latitude</th>\n",
       "      <th>start_station_longitude</th>\n",
       "      <th>end_station_id</th>\n",
       "      <th>end_station_name</th>\n",
       "      <th>end_station_latitude</th>\n",
       "      <th>...</th>\n",
       "      <th>bike_id</th>\n",
       "      <th>user_type</th>\n",
       "      <th>bike_share_for_all_trip</th>\n",
       "      <th>start_time_month</th>\n",
       "      <th>start_time_month_num</th>\n",
       "      <th>start_time_weekday</th>\n",
       "      <th>start_time_hour</th>\n",
       "      <th>end_time_hour</th>\n",
       "      <th>duration_min</th>\n",
       "      <th>displacement_km</th>\n",
       "    </tr>\n",
       "  </thead>\n",
       "  <tbody>\n",
       "    <tr>\n",
       "      <th>0</th>\n",
       "      <td>75284</td>\n",
       "      <td>2018-01-31 22:52:35.239</td>\n",
       "      <td>2018-02-01 19:47:19.824</td>\n",
       "      <td>120</td>\n",
       "      <td>Mission Dolores Park</td>\n",
       "      <td>37.761420</td>\n",
       "      <td>-122.426435</td>\n",
       "      <td>285</td>\n",
       "      <td>Webster St at O'Farrell St</td>\n",
       "      <td>37.783521</td>\n",
       "      <td>...</td>\n",
       "      <td>2765</td>\n",
       "      <td>Subscriber</td>\n",
       "      <td>No</td>\n",
       "      <td>January</td>\n",
       "      <td>1</td>\n",
       "      <td>Wed</td>\n",
       "      <td>22</td>\n",
       "      <td>19</td>\n",
       "      <td>1254</td>\n",
       "      <td>2.492254</td>\n",
       "    </tr>\n",
       "    <tr>\n",
       "      <th>1</th>\n",
       "      <td>85422</td>\n",
       "      <td>2018-01-31 16:13:34.351</td>\n",
       "      <td>2018-02-01 15:57:17.310</td>\n",
       "      <td>15</td>\n",
       "      <td>San Francisco Ferry Building (Harry Bridges Pl...</td>\n",
       "      <td>37.795392</td>\n",
       "      <td>-122.394203</td>\n",
       "      <td>15</td>\n",
       "      <td>San Francisco Ferry Building (Harry Bridges Pl...</td>\n",
       "      <td>37.795392</td>\n",
       "      <td>...</td>\n",
       "      <td>2815</td>\n",
       "      <td>Customer</td>\n",
       "      <td>No</td>\n",
       "      <td>January</td>\n",
       "      <td>1</td>\n",
       "      <td>Wed</td>\n",
       "      <td>16</td>\n",
       "      <td>15</td>\n",
       "      <td>1423</td>\n",
       "      <td>0.000000</td>\n",
       "    </tr>\n",
       "    <tr>\n",
       "      <th>2</th>\n",
       "      <td>71576</td>\n",
       "      <td>2018-01-31 14:23:55.889</td>\n",
       "      <td>2018-02-01 10:16:52.116</td>\n",
       "      <td>304</td>\n",
       "      <td>Jackson St at 5th St</td>\n",
       "      <td>37.348759</td>\n",
       "      <td>-121.894798</td>\n",
       "      <td>296</td>\n",
       "      <td>5th St at Virginia St</td>\n",
       "      <td>37.325998</td>\n",
       "      <td>...</td>\n",
       "      <td>3039</td>\n",
       "      <td>Customer</td>\n",
       "      <td>No</td>\n",
       "      <td>January</td>\n",
       "      <td>1</td>\n",
       "      <td>Wed</td>\n",
       "      <td>14</td>\n",
       "      <td>10</td>\n",
       "      <td>1192</td>\n",
       "      <td>2.974502</td>\n",
       "    </tr>\n",
       "    <tr>\n",
       "      <th>3</th>\n",
       "      <td>61076</td>\n",
       "      <td>2018-01-31 14:53:23.562</td>\n",
       "      <td>2018-02-01 07:51:20.500</td>\n",
       "      <td>75</td>\n",
       "      <td>Market St at Franklin St</td>\n",
       "      <td>37.773793</td>\n",
       "      <td>-122.421239</td>\n",
       "      <td>47</td>\n",
       "      <td>4th St at Harrison St</td>\n",
       "      <td>37.780955</td>\n",
       "      <td>...</td>\n",
       "      <td>321</td>\n",
       "      <td>Customer</td>\n",
       "      <td>No</td>\n",
       "      <td>January</td>\n",
       "      <td>1</td>\n",
       "      <td>Wed</td>\n",
       "      <td>14</td>\n",
       "      <td>7</td>\n",
       "      <td>1017</td>\n",
       "      <td>2.049710</td>\n",
       "    </tr>\n",
       "    <tr>\n",
       "      <th>4</th>\n",
       "      <td>39966</td>\n",
       "      <td>2018-01-31 19:52:24.667</td>\n",
       "      <td>2018-02-01 06:58:31.053</td>\n",
       "      <td>74</td>\n",
       "      <td>Laguna St at Hayes St</td>\n",
       "      <td>37.776435</td>\n",
       "      <td>-122.426244</td>\n",
       "      <td>19</td>\n",
       "      <td>Post St at Kearny St</td>\n",
       "      <td>37.788975</td>\n",
       "      <td>...</td>\n",
       "      <td>617</td>\n",
       "      <td>Subscriber</td>\n",
       "      <td>No</td>\n",
       "      <td>January</td>\n",
       "      <td>1</td>\n",
       "      <td>Wed</td>\n",
       "      <td>19</td>\n",
       "      <td>6</td>\n",
       "      <td>666</td>\n",
       "      <td>2.440571</td>\n",
       "    </tr>\n",
       "  </tbody>\n",
       "</table>\n",
       "<p>5 rows × 21 columns</p>\n",
       "</div>"
      ],
      "text/plain": [
       "   duration_sec              start_time                end_time  \\\n",
       "0         75284 2018-01-31 22:52:35.239 2018-02-01 19:47:19.824   \n",
       "1         85422 2018-01-31 16:13:34.351 2018-02-01 15:57:17.310   \n",
       "2         71576 2018-01-31 14:23:55.889 2018-02-01 10:16:52.116   \n",
       "3         61076 2018-01-31 14:53:23.562 2018-02-01 07:51:20.500   \n",
       "4         39966 2018-01-31 19:52:24.667 2018-02-01 06:58:31.053   \n",
       "\n",
       "   start_station_id                                 start_station_name  \\\n",
       "0               120                               Mission Dolores Park   \n",
       "1                15  San Francisco Ferry Building (Harry Bridges Pl...   \n",
       "2               304                               Jackson St at 5th St   \n",
       "3                75                           Market St at Franklin St   \n",
       "4                74                              Laguna St at Hayes St   \n",
       "\n",
       "   start_station_latitude  start_station_longitude  end_station_id  \\\n",
       "0               37.761420              -122.426435             285   \n",
       "1               37.795392              -122.394203              15   \n",
       "2               37.348759              -121.894798             296   \n",
       "3               37.773793              -122.421239              47   \n",
       "4               37.776435              -122.426244              19   \n",
       "\n",
       "                                    end_station_name  end_station_latitude  \\\n",
       "0                         Webster St at O'Farrell St             37.783521   \n",
       "1  San Francisco Ferry Building (Harry Bridges Pl...             37.795392   \n",
       "2                              5th St at Virginia St             37.325998   \n",
       "3                              4th St at Harrison St             37.780955   \n",
       "4                               Post St at Kearny St             37.788975   \n",
       "\n",
       "   ...  bike_id   user_type bike_share_for_all_trip start_time_month  \\\n",
       "0  ...     2765  Subscriber                      No          January   \n",
       "1  ...     2815    Customer                      No          January   \n",
       "2  ...     3039    Customer                      No          January   \n",
       "3  ...      321    Customer                      No          January   \n",
       "4  ...      617  Subscriber                      No          January   \n",
       "\n",
       "  start_time_month_num  start_time_weekday start_time_hour  end_time_hour  \\\n",
       "0                    1                 Wed              22             19   \n",
       "1                    1                 Wed              16             15   \n",
       "2                    1                 Wed              14             10   \n",
       "3                    1                 Wed              14              7   \n",
       "4                    1                 Wed              19              6   \n",
       "\n",
       "   duration_min  displacement_km  \n",
       "0          1254         2.492254  \n",
       "1          1423         0.000000  \n",
       "2          1192         2.974502  \n",
       "3          1017         2.049710  \n",
       "4           666         2.440571  \n",
       "\n",
       "[5 rows x 21 columns]"
      ]
     },
     "execution_count": 25,
     "metadata": {},
     "output_type": "execute_result"
    }
   ],
   "source": [
    "ford.head()"
   ]
  },
  {
   "cell_type": "code",
   "execution_count": 26,
   "metadata": {},
   "outputs": [],
   "source": [
    "ford.to_csv('ford_c.csv',index=False)"
   ]
  },
  {
   "cell_type": "markdown",
   "metadata": {},
   "source": [
    "### What is the structure of your dataset?\n",
    "- The dataset consists of 94802 records along with 10 attributes.\n",
    "- The dataset gives the starting and the ending time of the ride.\n",
    "- The dataset also conveys the information of the starting position of the customer and the ending position.\n",
    "- It also highlights the station names along with their ids.\n",
    "- The user_type feature gives info about the customer association with the servive provider.\n",
    "\n",
    "\n",
    "#### The columns that I have added are :\n",
    "- start_time_month gives the month in words.\n",
    "- start_time_month_num gives the number of the month ranging from (1-12).\n",
    "- start_time_weekday gives the day of the starting of the journey.\n",
    "- start_time_hour gives the starting time hour.\n",
    "- end_time_hour gives the ending time hour.\n",
    "- duration_min gives the duration of ride in minutes.\n",
    "\n",
    "\n",
    "\n",
    "### What is/are the main feature(s) of interest in your dataset?\n",
    "The main features of my interest are the starting time and the ending time.The starting time can reveal many insights according to different localities that can help an organization to manage its services and maintain the bike stocks.The displacement can also be a very promising feature in understanding the customer behavior which is necessary for a business.The features can be studied in order to reveal individual customer patterns in order to serve the customers better and maximize their revenue.   \n",
    "\n",
    "### What features in the dataset do you think will help support your investigation into your feature(s) of interest?\n",
    "The key features would be the starting time and the ending time.Some insights can be attributed to the displacement of the rides."
   ]
  },
  {
   "cell_type": "markdown",
   "metadata": {},
   "source": [
    "<a id='uni'></a>\n",
    "## Univariate Exploration\n",
    "\n",
    "> In this section, investigate distributions of individual variables. If\n",
    "you see unusual points or outliers, take a deeper look to clean things up\n",
    "and prepare yourself to look at relationships between variables."
   ]
  },
  {
   "cell_type": "code",
   "execution_count": 27,
   "metadata": {},
   "outputs": [],
   "source": [
    "ford = pd.read_csv('ford_c.csv')"
   ]
  },
  {
   "cell_type": "code",
   "execution_count": 28,
   "metadata": {},
   "outputs": [
    {
     "data": {
      "text/html": [
       "<div>\n",
       "<style scoped>\n",
       "    .dataframe tbody tr th:only-of-type {\n",
       "        vertical-align: middle;\n",
       "    }\n",
       "\n",
       "    .dataframe tbody tr th {\n",
       "        vertical-align: top;\n",
       "    }\n",
       "\n",
       "    .dataframe thead th {\n",
       "        text-align: right;\n",
       "    }\n",
       "</style>\n",
       "<table border=\"1\" class=\"dataframe\">\n",
       "  <thead>\n",
       "    <tr style=\"text-align: right;\">\n",
       "      <th></th>\n",
       "      <th>duration_sec</th>\n",
       "      <th>start_time</th>\n",
       "      <th>end_time</th>\n",
       "      <th>start_station_id</th>\n",
       "      <th>start_station_name</th>\n",
       "      <th>start_station_latitude</th>\n",
       "      <th>start_station_longitude</th>\n",
       "      <th>end_station_id</th>\n",
       "      <th>end_station_name</th>\n",
       "      <th>end_station_latitude</th>\n",
       "      <th>...</th>\n",
       "      <th>bike_id</th>\n",
       "      <th>user_type</th>\n",
       "      <th>bike_share_for_all_trip</th>\n",
       "      <th>start_time_month</th>\n",
       "      <th>start_time_month_num</th>\n",
       "      <th>start_time_weekday</th>\n",
       "      <th>start_time_hour</th>\n",
       "      <th>end_time_hour</th>\n",
       "      <th>duration_min</th>\n",
       "      <th>displacement_km</th>\n",
       "    </tr>\n",
       "  </thead>\n",
       "  <tbody>\n",
       "    <tr>\n",
       "      <th>0</th>\n",
       "      <td>75284</td>\n",
       "      <td>2018-01-31 22:52:35.239</td>\n",
       "      <td>2018-02-01 19:47:19.824</td>\n",
       "      <td>120</td>\n",
       "      <td>Mission Dolores Park</td>\n",
       "      <td>37.761420</td>\n",
       "      <td>-122.426435</td>\n",
       "      <td>285</td>\n",
       "      <td>Webster St at O'Farrell St</td>\n",
       "      <td>37.783521</td>\n",
       "      <td>...</td>\n",
       "      <td>2765</td>\n",
       "      <td>Subscriber</td>\n",
       "      <td>No</td>\n",
       "      <td>January</td>\n",
       "      <td>1</td>\n",
       "      <td>Wed</td>\n",
       "      <td>22</td>\n",
       "      <td>19</td>\n",
       "      <td>1254</td>\n",
       "      <td>2.492254</td>\n",
       "    </tr>\n",
       "    <tr>\n",
       "      <th>1</th>\n",
       "      <td>85422</td>\n",
       "      <td>2018-01-31 16:13:34.351</td>\n",
       "      <td>2018-02-01 15:57:17.310</td>\n",
       "      <td>15</td>\n",
       "      <td>San Francisco Ferry Building (Harry Bridges Pl...</td>\n",
       "      <td>37.795392</td>\n",
       "      <td>-122.394203</td>\n",
       "      <td>15</td>\n",
       "      <td>San Francisco Ferry Building (Harry Bridges Pl...</td>\n",
       "      <td>37.795392</td>\n",
       "      <td>...</td>\n",
       "      <td>2815</td>\n",
       "      <td>Customer</td>\n",
       "      <td>No</td>\n",
       "      <td>January</td>\n",
       "      <td>1</td>\n",
       "      <td>Wed</td>\n",
       "      <td>16</td>\n",
       "      <td>15</td>\n",
       "      <td>1423</td>\n",
       "      <td>0.000000</td>\n",
       "    </tr>\n",
       "    <tr>\n",
       "      <th>2</th>\n",
       "      <td>71576</td>\n",
       "      <td>2018-01-31 14:23:55.889</td>\n",
       "      <td>2018-02-01 10:16:52.116</td>\n",
       "      <td>304</td>\n",
       "      <td>Jackson St at 5th St</td>\n",
       "      <td>37.348759</td>\n",
       "      <td>-121.894798</td>\n",
       "      <td>296</td>\n",
       "      <td>5th St at Virginia St</td>\n",
       "      <td>37.325998</td>\n",
       "      <td>...</td>\n",
       "      <td>3039</td>\n",
       "      <td>Customer</td>\n",
       "      <td>No</td>\n",
       "      <td>January</td>\n",
       "      <td>1</td>\n",
       "      <td>Wed</td>\n",
       "      <td>14</td>\n",
       "      <td>10</td>\n",
       "      <td>1192</td>\n",
       "      <td>2.974502</td>\n",
       "    </tr>\n",
       "    <tr>\n",
       "      <th>3</th>\n",
       "      <td>61076</td>\n",
       "      <td>2018-01-31 14:53:23.562</td>\n",
       "      <td>2018-02-01 07:51:20.500</td>\n",
       "      <td>75</td>\n",
       "      <td>Market St at Franklin St</td>\n",
       "      <td>37.773793</td>\n",
       "      <td>-122.421239</td>\n",
       "      <td>47</td>\n",
       "      <td>4th St at Harrison St</td>\n",
       "      <td>37.780955</td>\n",
       "      <td>...</td>\n",
       "      <td>321</td>\n",
       "      <td>Customer</td>\n",
       "      <td>No</td>\n",
       "      <td>January</td>\n",
       "      <td>1</td>\n",
       "      <td>Wed</td>\n",
       "      <td>14</td>\n",
       "      <td>7</td>\n",
       "      <td>1017</td>\n",
       "      <td>2.049710</td>\n",
       "    </tr>\n",
       "    <tr>\n",
       "      <th>4</th>\n",
       "      <td>39966</td>\n",
       "      <td>2018-01-31 19:52:24.667</td>\n",
       "      <td>2018-02-01 06:58:31.053</td>\n",
       "      <td>74</td>\n",
       "      <td>Laguna St at Hayes St</td>\n",
       "      <td>37.776435</td>\n",
       "      <td>-122.426244</td>\n",
       "      <td>19</td>\n",
       "      <td>Post St at Kearny St</td>\n",
       "      <td>37.788975</td>\n",
       "      <td>...</td>\n",
       "      <td>617</td>\n",
       "      <td>Subscriber</td>\n",
       "      <td>No</td>\n",
       "      <td>January</td>\n",
       "      <td>1</td>\n",
       "      <td>Wed</td>\n",
       "      <td>19</td>\n",
       "      <td>6</td>\n",
       "      <td>666</td>\n",
       "      <td>2.440571</td>\n",
       "    </tr>\n",
       "  </tbody>\n",
       "</table>\n",
       "<p>5 rows × 21 columns</p>\n",
       "</div>"
      ],
      "text/plain": [
       "   duration_sec               start_time                 end_time  \\\n",
       "0         75284  2018-01-31 22:52:35.239  2018-02-01 19:47:19.824   \n",
       "1         85422  2018-01-31 16:13:34.351  2018-02-01 15:57:17.310   \n",
       "2         71576  2018-01-31 14:23:55.889  2018-02-01 10:16:52.116   \n",
       "3         61076  2018-01-31 14:53:23.562  2018-02-01 07:51:20.500   \n",
       "4         39966  2018-01-31 19:52:24.667  2018-02-01 06:58:31.053   \n",
       "\n",
       "   start_station_id                                 start_station_name  \\\n",
       "0               120                               Mission Dolores Park   \n",
       "1                15  San Francisco Ferry Building (Harry Bridges Pl...   \n",
       "2               304                               Jackson St at 5th St   \n",
       "3                75                           Market St at Franklin St   \n",
       "4                74                              Laguna St at Hayes St   \n",
       "\n",
       "   start_station_latitude  start_station_longitude  end_station_id  \\\n",
       "0               37.761420              -122.426435             285   \n",
       "1               37.795392              -122.394203              15   \n",
       "2               37.348759              -121.894798             296   \n",
       "3               37.773793              -122.421239              47   \n",
       "4               37.776435              -122.426244              19   \n",
       "\n",
       "                                    end_station_name  end_station_latitude  \\\n",
       "0                         Webster St at O'Farrell St             37.783521   \n",
       "1  San Francisco Ferry Building (Harry Bridges Pl...             37.795392   \n",
       "2                              5th St at Virginia St             37.325998   \n",
       "3                              4th St at Harrison St             37.780955   \n",
       "4                               Post St at Kearny St             37.788975   \n",
       "\n",
       "   ...  bike_id   user_type bike_share_for_all_trip start_time_month  \\\n",
       "0  ...     2765  Subscriber                      No          January   \n",
       "1  ...     2815    Customer                      No          January   \n",
       "2  ...     3039    Customer                      No          January   \n",
       "3  ...      321    Customer                      No          January   \n",
       "4  ...      617  Subscriber                      No          January   \n",
       "\n",
       "  start_time_month_num  start_time_weekday start_time_hour  end_time_hour  \\\n",
       "0                    1                 Wed              22             19   \n",
       "1                    1                 Wed              16             15   \n",
       "2                    1                 Wed              14             10   \n",
       "3                    1                 Wed              14              7   \n",
       "4                    1                 Wed              19              6   \n",
       "\n",
       "   duration_min  displacement_km  \n",
       "0          1254         2.492254  \n",
       "1          1423         0.000000  \n",
       "2          1192         2.974502  \n",
       "3          1017         2.049710  \n",
       "4           666         2.440571  \n",
       "\n",
       "[5 rows x 21 columns]"
      ]
     },
     "execution_count": 28,
     "metadata": {},
     "output_type": "execute_result"
    }
   ],
   "source": [
    "ford.head()"
   ]
  },
  {
   "cell_type": "markdown",
   "metadata": {},
   "source": [
    "> Make sure that, after every plot or related series of plots, that you\n",
    "include a Markdown cell with comments about what you observed, and what\n",
    "you plan on investigating next."
   ]
  },
  {
   "cell_type": "code",
   "execution_count": 29,
   "metadata": {},
   "outputs": [
    {
     "data": {
      "text/plain": [
       "duration_sec               92722\n",
       "start_time                 92722\n",
       "end_time                   92722\n",
       "start_station_id           92722\n",
       "start_station_name         92722\n",
       "start_station_latitude     92722\n",
       "start_station_longitude    92722\n",
       "end_station_id             92722\n",
       "end_station_name           92722\n",
       "end_station_latitude       92722\n",
       "end_station_longitude      92722\n",
       "bike_id                    92722\n",
       "user_type                  92722\n",
       "bike_share_for_all_trip    92722\n",
       "start_time_month           92722\n",
       "start_time_month_num       92722\n",
       "start_time_weekday         92722\n",
       "start_time_hour            92722\n",
       "end_time_hour              92722\n",
       "duration_min               92722\n",
       "displacement_km            92722\n",
       "dtype: int64"
      ]
     },
     "execution_count": 29,
     "metadata": {},
     "output_type": "execute_result"
    }
   ],
   "source": [
    "ford[ford['duration_sec']<3000].count()"
   ]
  },
  {
   "cell_type": "code",
   "execution_count": 30,
   "metadata": {},
   "outputs": [],
   "source": [
    "bin_edges = np.arange(0,ford[ford['duration_sec']<3000]['duration_sec'].max() + 300,300)"
   ]
  },
  {
   "cell_type": "code",
   "execution_count": 31,
   "metadata": {
    "slideshow": {
     "slide_type": "-"
    }
   },
   "outputs": [
    {
     "data": {
      "image/png": "[encoded data removed]",
      "text/plain": [
       "<Figure size 576x432 with 1 Axes>"
      ]
     },
     "metadata": {
      "needs_background": "light"
     },
     "output_type": "display_data"
    }
   ],
   "source": [
    "plt.figure(figsize=(8,6))\n",
    "plt.hist(data=ford[ford['duration_sec']<3000],x='duration_sec',bins=bin_edges)\n",
    "sb.set_style('darkgrid')\n",
    "plt.title('Number of Rides Vs Duration in Seconds',fontsize=18)\n",
    "plt.xlabel('Duration in Seconds',fontsize=18)\n",
    "plt.ylabel('Number of Rides',fontsize=18);"
   ]
  },
  {
   "cell_type": "markdown",
   "metadata": {
    "slideshow": {
     "slide_type": "-"
    }
   },
   "source": [
    "#### The duration of most number of rides is approximately between 350 seconds to 600 seconds.The distribution is right skewed and unimodal.Gradually the average seconds decrease from 600 to 2000.The most important insight is that most of the rides range between 1 to 2000 seconds with 350 to 600 being the peak."
   ]
  },
  {
   "cell_type": "code",
   "execution_count": 33,
   "metadata": {},
   "outputs": [],
   "source": [
    "base_color = sb.color_palette()[0]"
   ]
  },
  {
   "cell_type": "code",
   "execution_count": 34,
   "metadata": {
    "slideshow": {
     "slide_type": "-"
    }
   },
   "outputs": [
    {
     "data": {
      "image/png": "[encoded data removed]",
      "text/plain": [
       "<Figure size 576x432 with 1 Axes>"
      ]
     },
     "metadata": {},
     "output_type": "display_data"
    }
   ],
   "source": [
    "plt.figure(figsize=(8,6))\n",
    "sb.countplot(data=ford,x='start_time_weekday',order=['Sun','Mon','Tue','Wed','Thu','Fri','Sat'],color=base_color)\n",
    "plt.title('Weekday Vs Count',fontsize=18)\n",
    "plt.xlabel('Weekday',fontsize=18)\n",
    "plt.ylabel('Count',fontsize=18);"
   ]
  },
  {
   "cell_type": "markdown",
   "metadata": {
    "slideshow": {
     "slide_type": "-"
    }
   },
   "source": [
    "#### The insight has most number of rides on Tuesday and Wednesday.The lowest number of rides taken are on Sunday which can be attributed to being a holiday.The unusual increase in the rides must be verified with situations like less availability of public transport on Tuesday or anything else"
   ]
  },
  {
   "cell_type": "code",
   "execution_count": 35,
   "metadata": {
    "slideshow": {
     "slide_type": "-"
    }
   },
   "outputs": [
    {
     "data": {
      "image/png": "[encoded data removed]",
      "text/plain": [
       "<Figure size 576x432 with 1 Axes>"
      ]
     },
     "metadata": {},
     "output_type": "display_data"
    }
   ],
   "source": [
    "plt.figure(figsize=(8,6))\n",
    "sb.countplot(data=ford,x='start_time_hour',color=base_color)\n",
    "plt.title('Number Of Rides Vs Start Time Hour')\n",
    "plt.xlabel('Start Time Hour',fontsize=18)\n",
    "plt.ylabel('Number Of Rides',fontsize=18);"
   ]
  },
  {
   "cell_type": "markdown",
   "metadata": {
    "slideshow": {
     "slide_type": "-"
    }
   },
   "source": [
    "#### The insight is bimodal with 8 and 17 being the two modes.This unusual number of rides as 8 can be attributed to the office opening hours (rush hours) and at 17 to office closing hours."
   ]
  },
  {
   "cell_type": "code",
   "execution_count": 36,
   "metadata": {
    "slideshow": {
     "slide_type": "-"
    }
   },
   "outputs": [
    {
     "data": {
      "image/png": "[encoded data removed]",
      "text/plain": [
       "<Figure size 576x432 with 1 Axes>"
      ]
     },
     "metadata": {},
     "output_type": "display_data"
    }
   ],
   "source": [
    "plt.figure(figsize=(8,6))\n",
    "sb.countplot(data=ford,x='end_time_hour',color=base_color)\n",
    "plt.title('End Time Hour Vs Number Of Rides',fontsize=18)\n",
    "plt.xlabel('End Time Hour',fontsize=18)\n",
    "plt.ylabel('Number of Rides',fontsize=18);"
   ]
  },
  {
   "cell_type": "markdown",
   "metadata": {
    "slideshow": {
     "slide_type": "-"
    }
   },
   "source": [
    "#### Most of the rides end at 8 and 17.This again can be attributed to the office going people who start and end the rides at the same hours."
   ]
  },
  {
   "cell_type": "code",
   "execution_count": 37,
   "metadata": {
    "slideshow": {
     "slide_type": "-"
    }
   },
   "outputs": [
    {
     "data": {
      "text/plain": [
       "duration_sec               93509\n",
       "start_time                 93509\n",
       "end_time                   93509\n",
       "start_station_id           93509\n",
       "start_station_name         93509\n",
       "start_station_latitude     93509\n",
       "start_station_longitude    93509\n",
       "end_station_id             93509\n",
       "end_station_name           93509\n",
       "end_station_latitude       93509\n",
       "end_station_longitude      93509\n",
       "bike_id                    93509\n",
       "user_type                  93509\n",
       "bike_share_for_all_trip    93509\n",
       "start_time_month           93509\n",
       "start_time_month_num       93509\n",
       "start_time_weekday         93509\n",
       "start_time_hour            93509\n",
       "end_time_hour              93509\n",
       "duration_min               93509\n",
       "displacement_km            93509\n",
       "dtype: int64"
      ]
     },
     "execution_count": 37,
     "metadata": {},
     "output_type": "execute_result"
    }
   ],
   "source": [
    "ford[ford['duration_min']<80].count()"
   ]
  },
  {
   "cell_type": "code",
   "execution_count": 38,
   "metadata": {},
   "outputs": [],
   "source": [
    "bin_edges = np.arange(0,ford[ford['duration_min']<80]['duration_min'].max() + 2,2)"
   ]
  },
  {
   "cell_type": "code",
   "execution_count": 40,
   "metadata": {
    "slideshow": {
     "slide_type": "slide"
    }
   },
   "outputs": [
    {
     "data": {
      "image/png": "[encoded data removed]",
      "text/plain": [
       "<Figure size 576x432 with 1 Axes>"
      ]
     },
     "metadata": {},
     "output_type": "display_data"
    }
   ],
   "source": [
    "plt.figure(figsize=(8,6))\n",
    "plt.hist(data=ford,x='duration_min',color=base_color,bins=bin_edges)\n",
    "plt.title('Number of Rides Vs Duration in Minutes',fontsize=18)\n",
    "plt.xlabel('Duration in Minutes',fontsize=18)\n",
    "plt.ylabel('Number of Rides',fontsize=18);"
   ]
  },
  {
   "cell_type": "markdown",
   "metadata": {
    "slideshow": {
     "slide_type": "subslide"
    }
   },
   "source": [
    "#### The insight reveals that most of the rides range from 5 to 8 minutes with a gradual decrease from 8 to 50 minutes.5 to 10 minutes rides do not seem too much and hence these rides must be related to office hours with most of the people the service for office purposes to ride from their home to office and vice versa."
   ]
  },
  {
   "cell_type": "code",
   "execution_count": 41,
   "metadata": {
    "slideshow": {
     "slide_type": "slide"
    }
   },
   "outputs": [
    {
     "data": {
      "image/png": "[encoded data removed]",
      "text/plain": [
       "<Figure size 576x432 with 1 Axes>"
      ]
     },
     "metadata": {},
     "output_type": "display_data"
    }
   ],
   "source": [
    "plt.figure(figsize=(8,6))\n",
    "sb.countplot(data=ford,x='user_type',color=base_color)\n",
    "plt.title('Number of Users Vs User types',fontsize=18)\n",
    "plt.xlabel('User Types',fontsize=18)\n",
    "plt.ylabel('Number of Users',fontsize=18);"
   ]
  },
  {
   "cell_type": "markdown",
   "metadata": {
    "slideshow": {
     "slide_type": "subslide"
    }
   },
   "source": [
    "#### Most of the users are subscribers approximately ranging upto 82000. The customer type is way less at 11000.The service seems to be more inclined to the subscribers and the nature of the subscribers would be evaluated further."
   ]
  },
  {
   "cell_type": "code",
   "execution_count": 43,
   "metadata": {
    "slideshow": {
     "slide_type": "skip"
    }
   },
   "outputs": [
    {
     "data": {
      "image/png": "[encoded data removed]",
      "text/plain": [
       "<Figure size 576x432 with 1 Axes>"
      ]
     },
     "metadata": {},
     "output_type": "display_data"
    }
   ],
   "source": [
    "plt.figure(figsize=(8,6))\n",
    "sb.countplot(data=ford, x='bike_share_for_all_trip', color=base_color);\n",
    "plt.title('Bike Share For All Trip Vs Count',fontsize=18)\n",
    "plt.xlabel('Bike Share for All Trip',fontsize=18);\n",
    "plt.ylabel('Count',fontsize=18);"
   ]
  },
  {
   "cell_type": "markdown",
   "metadata": {
    "slideshow": {
     "slide_type": "skip"
    }
   },
   "source": [
    "#### The insight suggests that most of the rides are not shared approximately 90000 rides are not shared.Rest 3000 rides are shared.The users are more inclined towards solo rides."
   ]
  },
  {
   "cell_type": "code",
   "execution_count": 44,
   "metadata": {
    "slideshow": {
     "slide_type": "skip"
    }
   },
   "outputs": [
    {
     "data": {
      "text/html": [
       "<div>\n",
       "<style scoped>\n",
       "    .dataframe tbody tr th:only-of-type {\n",
       "        vertical-align: middle;\n",
       "    }\n",
       "\n",
       "    .dataframe tbody tr th {\n",
       "        vertical-align: top;\n",
       "    }\n",
       "\n",
       "    .dataframe thead th {\n",
       "        text-align: right;\n",
       "    }\n",
       "</style>\n",
       "<table border=\"1\" class=\"dataframe\">\n",
       "  <thead>\n",
       "    <tr style=\"text-align: right;\">\n",
       "      <th></th>\n",
       "      <th>duration_sec</th>\n",
       "      <th>start_time</th>\n",
       "      <th>end_time</th>\n",
       "      <th>start_station_id</th>\n",
       "      <th>start_station_name</th>\n",
       "      <th>start_station_latitude</th>\n",
       "      <th>start_station_longitude</th>\n",
       "      <th>end_station_id</th>\n",
       "      <th>end_station_name</th>\n",
       "      <th>end_station_latitude</th>\n",
       "      <th>...</th>\n",
       "      <th>bike_id</th>\n",
       "      <th>user_type</th>\n",
       "      <th>bike_share_for_all_trip</th>\n",
       "      <th>start_time_month</th>\n",
       "      <th>start_time_month_num</th>\n",
       "      <th>start_time_weekday</th>\n",
       "      <th>start_time_hour</th>\n",
       "      <th>end_time_hour</th>\n",
       "      <th>duration_min</th>\n",
       "      <th>displacement_km</th>\n",
       "    </tr>\n",
       "  </thead>\n",
       "  <tbody>\n",
       "    <tr>\n",
       "      <th>0</th>\n",
       "      <td>75284</td>\n",
       "      <td>2018-01-31 22:52:35.239</td>\n",
       "      <td>2018-02-01 19:47:19.824</td>\n",
       "      <td>120</td>\n",
       "      <td>Mission Dolores Park</td>\n",
       "      <td>37.761420</td>\n",
       "      <td>-122.426435</td>\n",
       "      <td>285</td>\n",
       "      <td>Webster St at O'Farrell St</td>\n",
       "      <td>37.783521</td>\n",
       "      <td>...</td>\n",
       "      <td>2765</td>\n",
       "      <td>Subscriber</td>\n",
       "      <td>No</td>\n",
       "      <td>January</td>\n",
       "      <td>1</td>\n",
       "      <td>Wed</td>\n",
       "      <td>22</td>\n",
       "      <td>19</td>\n",
       "      <td>1254</td>\n",
       "      <td>2.492254</td>\n",
       "    </tr>\n",
       "    <tr>\n",
       "      <th>1</th>\n",
       "      <td>85422</td>\n",
       "      <td>2018-01-31 16:13:34.351</td>\n",
       "      <td>2018-02-01 15:57:17.310</td>\n",
       "      <td>15</td>\n",
       "      <td>San Francisco Ferry Building (Harry Bridges Pl...</td>\n",
       "      <td>37.795392</td>\n",
       "      <td>-122.394203</td>\n",
       "      <td>15</td>\n",
       "      <td>San Francisco Ferry Building (Harry Bridges Pl...</td>\n",
       "      <td>37.795392</td>\n",
       "      <td>...</td>\n",
       "      <td>2815</td>\n",
       "      <td>Customer</td>\n",
       "      <td>No</td>\n",
       "      <td>January</td>\n",
       "      <td>1</td>\n",
       "      <td>Wed</td>\n",
       "      <td>16</td>\n",
       "      <td>15</td>\n",
       "      <td>1423</td>\n",
       "      <td>0.000000</td>\n",
       "    </tr>\n",
       "    <tr>\n",
       "      <th>2</th>\n",
       "      <td>71576</td>\n",
       "      <td>2018-01-31 14:23:55.889</td>\n",
       "      <td>2018-02-01 10:16:52.116</td>\n",
       "      <td>304</td>\n",
       "      <td>Jackson St at 5th St</td>\n",
       "      <td>37.348759</td>\n",
       "      <td>-121.894798</td>\n",
       "      <td>296</td>\n",
       "      <td>5th St at Virginia St</td>\n",
       "      <td>37.325998</td>\n",
       "      <td>...</td>\n",
       "      <td>3039</td>\n",
       "      <td>Customer</td>\n",
       "      <td>No</td>\n",
       "      <td>January</td>\n",
       "      <td>1</td>\n",
       "      <td>Wed</td>\n",
       "      <td>14</td>\n",
       "      <td>10</td>\n",
       "      <td>1192</td>\n",
       "      <td>2.974502</td>\n",
       "    </tr>\n",
       "    <tr>\n",
       "      <th>3</th>\n",
       "      <td>61076</td>\n",
       "      <td>2018-01-31 14:53:23.562</td>\n",
       "      <td>2018-02-01 07:51:20.500</td>\n",
       "      <td>75</td>\n",
       "      <td>Market St at Franklin St</td>\n",
       "      <td>37.773793</td>\n",
       "      <td>-122.421239</td>\n",
       "      <td>47</td>\n",
       "      <td>4th St at Harrison St</td>\n",
       "      <td>37.780955</td>\n",
       "      <td>...</td>\n",
       "      <td>321</td>\n",
       "      <td>Customer</td>\n",
       "      <td>No</td>\n",
       "      <td>January</td>\n",
       "      <td>1</td>\n",
       "      <td>Wed</td>\n",
       "      <td>14</td>\n",
       "      <td>7</td>\n",
       "      <td>1017</td>\n",
       "      <td>2.049710</td>\n",
       "    </tr>\n",
       "    <tr>\n",
       "      <th>4</th>\n",
       "      <td>39966</td>\n",
       "      <td>2018-01-31 19:52:24.667</td>\n",
       "      <td>2018-02-01 06:58:31.053</td>\n",
       "      <td>74</td>\n",
       "      <td>Laguna St at Hayes St</td>\n",
       "      <td>37.776435</td>\n",
       "      <td>-122.426244</td>\n",
       "      <td>19</td>\n",
       "      <td>Post St at Kearny St</td>\n",
       "      <td>37.788975</td>\n",
       "      <td>...</td>\n",
       "      <td>617</td>\n",
       "      <td>Subscriber</td>\n",
       "      <td>No</td>\n",
       "      <td>January</td>\n",
       "      <td>1</td>\n",
       "      <td>Wed</td>\n",
       "      <td>19</td>\n",
       "      <td>6</td>\n",
       "      <td>666</td>\n",
       "      <td>2.440571</td>\n",
       "    </tr>\n",
       "  </tbody>\n",
       "</table>\n",
       "<p>5 rows × 21 columns</p>\n",
       "</div>"
      ],
      "text/plain": [
       "   duration_sec               start_time                 end_time  \\\n",
       "0         75284  2018-01-31 22:52:35.239  2018-02-01 19:47:19.824   \n",
       "1         85422  2018-01-31 16:13:34.351  2018-02-01 15:57:17.310   \n",
       "2         71576  2018-01-31 14:23:55.889  2018-02-01 10:16:52.116   \n",
       "3         61076  2018-01-31 14:53:23.562  2018-02-01 07:51:20.500   \n",
       "4         39966  2018-01-31 19:52:24.667  2018-02-01 06:58:31.053   \n",
       "\n",
       "   start_station_id                                 start_station_name  \\\n",
       "0               120                               Mission Dolores Park   \n",
       "1                15  San Francisco Ferry Building (Harry Bridges Pl...   \n",
       "2               304                               Jackson St at 5th St   \n",
       "3                75                           Market St at Franklin St   \n",
       "4                74                              Laguna St at Hayes St   \n",
       "\n",
       "   start_station_latitude  start_station_longitude  end_station_id  \\\n",
       "0               37.761420              -122.426435             285   \n",
       "1               37.795392              -122.394203              15   \n",
       "2               37.348759              -121.894798             296   \n",
       "3               37.773793              -122.421239              47   \n",
       "4               37.776435              -122.426244              19   \n",
       "\n",
       "                                    end_station_name  end_station_latitude  \\\n",
       "0                         Webster St at O'Farrell St             37.783521   \n",
       "1  San Francisco Ferry Building (Harry Bridges Pl...             37.795392   \n",
       "2                              5th St at Virginia St             37.325998   \n",
       "3                              4th St at Harrison St             37.780955   \n",
       "4                               Post St at Kearny St             37.788975   \n",
       "\n",
       "   ...  bike_id   user_type bike_share_for_all_trip start_time_month  \\\n",
       "0  ...     2765  Subscriber                      No          January   \n",
       "1  ...     2815    Customer                      No          January   \n",
       "2  ...     3039    Customer                      No          January   \n",
       "3  ...      321    Customer                      No          January   \n",
       "4  ...      617  Subscriber                      No          January   \n",
       "\n",
       "  start_time_month_num  start_time_weekday start_time_hour  end_time_hour  \\\n",
       "0                    1                 Wed              22             19   \n",
       "1                    1                 Wed              16             15   \n",
       "2                    1                 Wed              14             10   \n",
       "3                    1                 Wed              14              7   \n",
       "4                    1                 Wed              19              6   \n",
       "\n",
       "   duration_min  displacement_km  \n",
       "0          1254         2.492254  \n",
       "1          1423         0.000000  \n",
       "2          1192         2.974502  \n",
       "3          1017         2.049710  \n",
       "4           666         2.440571  \n",
       "\n",
       "[5 rows x 21 columns]"
      ]
     },
     "execution_count": 44,
     "metadata": {},
     "output_type": "execute_result"
    }
   ],
   "source": [
    "ford.head()"
   ]
  },
  {
   "cell_type": "markdown",
   "metadata": {
    "slideshow": {
     "slide_type": "skip"
    }
   },
   "source": [
    "### Discuss the distribution(s) of your variable(s) of interest. Were there any unusual points? Did you need to perform any transformations?\n",
    "\n",
    "There are a lot of outliers or extreme data points that can be misleading and hence in order to avoid plotting them and to get detatiled insights we eliminate the outliers for our data and we plot the data which is most commonly occuring.\n",
    "\n",
    "### Of the features you investigated, were there any unusual distributions? Did you perform any operations on the data to tidy, adjust, or change the form of the data? If so, why did you do this?\n",
    "\n",
    "The distributions that I observed were really informative and I have mentioned them below each insight.Yes,I performed some operations in order to adjust the outliers and get the real insights."
   ]
  },
  {
   "cell_type": "markdown",
   "metadata": {
    "slideshow": {
     "slide_type": "skip"
    }
   },
   "source": [
    "<a id='bi'></a>\n",
    "## Bivariate Exploration\n",
    "\n",
    "\n",
    "> In this section, investigate relationships between pairs of variables in your\n",
    "data. Make sure the variables that you cover here have been introduced in some\n",
    "fashion in the previous section (univariate exploration)."
   ]
  },
  {
   "cell_type": "code",
   "execution_count": 48,
   "metadata": {
    "slideshow": {
     "slide_type": "skip"
    }
   },
   "outputs": [
    {
     "data": {
      "image/png": "[encoded data removed]",
      "text/plain": [
       "<Figure size 576x432 with 1 Axes>"
      ]
     },
     "metadata": {},
     "output_type": "display_data"
    }
   ],
   "source": [
    "plt.figure(figsize=(8,6))\n",
    "plt.xlabel('Weekday',fontsize=18)\n",
    "plt.ylabel('Duration in Minutes',fontsize=18)\n",
    "plt.title('Weekday Vs Duration in Minutes',fontsize=18)\n",
    "sb.boxplot(data=ford[ford['duration_min']<60],x='start_time_weekday',y='duration_min',order=['Sun','Mon','Tue','Wed','Thu','Fri','Sat'],color=base_color);"
   ]
  },
  {
   "cell_type": "markdown",
   "metadata": {
    "slideshow": {
     "slide_type": "skip"
    }
   },
   "source": [
    "#### The plot highlights that the mean of the duration in minutes is slightly higher as compared to other days(10).This can be attributed to the long rides that people take during holidays.The other days have relatively a similar mean.Although the range of a ride decreases from sunday to Monday,It remains constant until Friday and then a sudden increase in range is observed on sunday. "
   ]
  },
  {
   "cell_type": "code",
   "execution_count": 51,
   "metadata": {
    "slideshow": {
     "slide_type": "skip"
    }
   },
   "outputs": [
    {
     "data": {
      "image/png": "[encoded data removed]",
      "text/plain": [
       "<Figure size 576x432 with 1 Axes>"
      ]
     },
     "metadata": {},
     "output_type": "display_data"
    }
   ],
   "source": [
    "plt.figure(figsize=(8,6))\n",
    "sb.violinplot(data=ford[ford['duration_min']<80],x='user_type',y='duration_min',color=base_color,inner='quartile')\n",
    "plt.xlabel('User Type',fontsize=18)\n",
    "plt.ylabel('Duration in Minutes',fontsize=18)\n",
    "plt.title('User Type Vs Duration in Minutes',fontsize=18);"
   ]
  },
  {
   "cell_type": "markdown",
   "metadata": {
    "slideshow": {
     "slide_type": "skip"
    }
   },
   "source": [
    "#### The mean duration mean in minutes for subscribers is relatively less as compared to the customers.Most of the ride duration ranges from 1 to 20 whereas the same for the customers ranges from 1 to 40.This is quite significant insight."
   ]
  },
  {
   "cell_type": "code",
   "execution_count": 44,
   "metadata": {
    "slideshow": {
     "slide_type": "skip"
    }
   },
   "outputs": [
    {
     "data": {
      "text/html": [
       "<div>\n",
       "<style scoped>\n",
       "    .dataframe tbody tr th:only-of-type {\n",
       "        vertical-align: middle;\n",
       "    }\n",
       "\n",
       "    .dataframe tbody tr th {\n",
       "        vertical-align: top;\n",
       "    }\n",
       "\n",
       "    .dataframe thead th {\n",
       "        text-align: right;\n",
       "    }\n",
       "</style>\n",
       "<table border=\"1\" class=\"dataframe\">\n",
       "  <thead>\n",
       "    <tr style=\"text-align: right;\">\n",
       "      <th></th>\n",
       "      <th>duration_sec</th>\n",
       "      <th>start_time</th>\n",
       "      <th>end_time</th>\n",
       "      <th>start_station_id</th>\n",
       "      <th>start_station_name</th>\n",
       "      <th>start_station_latitude</th>\n",
       "      <th>start_station_longitude</th>\n",
       "      <th>end_station_id</th>\n",
       "      <th>end_station_name</th>\n",
       "      <th>end_station_latitude</th>\n",
       "      <th>...</th>\n",
       "      <th>bike_id</th>\n",
       "      <th>user_type</th>\n",
       "      <th>bike_share_for_all_trip</th>\n",
       "      <th>start_time_month</th>\n",
       "      <th>start_time_month_num</th>\n",
       "      <th>start_time_weekday</th>\n",
       "      <th>start_time_hour</th>\n",
       "      <th>end_time_hour</th>\n",
       "      <th>duration_min</th>\n",
       "      <th>displacement_km</th>\n",
       "    </tr>\n",
       "  </thead>\n",
       "  <tbody>\n",
       "    <tr>\n",
       "      <th>0</th>\n",
       "      <td>75284</td>\n",
       "      <td>2018-01-31 22:52:35.239</td>\n",
       "      <td>2018-02-01 19:47:19.824</td>\n",
       "      <td>120</td>\n",
       "      <td>Mission Dolores Park</td>\n",
       "      <td>37.761420</td>\n",
       "      <td>-122.426435</td>\n",
       "      <td>285</td>\n",
       "      <td>Webster St at O'Farrell St</td>\n",
       "      <td>37.783521</td>\n",
       "      <td>...</td>\n",
       "      <td>2765</td>\n",
       "      <td>Subscriber</td>\n",
       "      <td>No</td>\n",
       "      <td>January</td>\n",
       "      <td>1</td>\n",
       "      <td>Wed</td>\n",
       "      <td>22</td>\n",
       "      <td>19</td>\n",
       "      <td>1254</td>\n",
       "      <td>2.492254</td>\n",
       "    </tr>\n",
       "    <tr>\n",
       "      <th>1</th>\n",
       "      <td>85422</td>\n",
       "      <td>2018-01-31 16:13:34.351</td>\n",
       "      <td>2018-02-01 15:57:17.310</td>\n",
       "      <td>15</td>\n",
       "      <td>San Francisco Ferry Building (Harry Bridges Pl...</td>\n",
       "      <td>37.795392</td>\n",
       "      <td>-122.394203</td>\n",
       "      <td>15</td>\n",
       "      <td>San Francisco Ferry Building (Harry Bridges Pl...</td>\n",
       "      <td>37.795392</td>\n",
       "      <td>...</td>\n",
       "      <td>2815</td>\n",
       "      <td>Customer</td>\n",
       "      <td>No</td>\n",
       "      <td>January</td>\n",
       "      <td>1</td>\n",
       "      <td>Wed</td>\n",
       "      <td>16</td>\n",
       "      <td>15</td>\n",
       "      <td>1423</td>\n",
       "      <td>0.000000</td>\n",
       "    </tr>\n",
       "    <tr>\n",
       "      <th>2</th>\n",
       "      <td>71576</td>\n",
       "      <td>2018-01-31 14:23:55.889</td>\n",
       "      <td>2018-02-01 10:16:52.116</td>\n",
       "      <td>304</td>\n",
       "      <td>Jackson St at 5th St</td>\n",
       "      <td>37.348759</td>\n",
       "      <td>-121.894798</td>\n",
       "      <td>296</td>\n",
       "      <td>5th St at Virginia St</td>\n",
       "      <td>37.325998</td>\n",
       "      <td>...</td>\n",
       "      <td>3039</td>\n",
       "      <td>Customer</td>\n",
       "      <td>No</td>\n",
       "      <td>January</td>\n",
       "      <td>1</td>\n",
       "      <td>Wed</td>\n",
       "      <td>14</td>\n",
       "      <td>10</td>\n",
       "      <td>1192</td>\n",
       "      <td>2.974502</td>\n",
       "    </tr>\n",
       "    <tr>\n",
       "      <th>3</th>\n",
       "      <td>61076</td>\n",
       "      <td>2018-01-31 14:53:23.562</td>\n",
       "      <td>2018-02-01 07:51:20.500</td>\n",
       "      <td>75</td>\n",
       "      <td>Market St at Franklin St</td>\n",
       "      <td>37.773793</td>\n",
       "      <td>-122.421239</td>\n",
       "      <td>47</td>\n",
       "      <td>4th St at Harrison St</td>\n",
       "      <td>37.780955</td>\n",
       "      <td>...</td>\n",
       "      <td>321</td>\n",
       "      <td>Customer</td>\n",
       "      <td>No</td>\n",
       "      <td>January</td>\n",
       "      <td>1</td>\n",
       "      <td>Wed</td>\n",
       "      <td>14</td>\n",
       "      <td>7</td>\n",
       "      <td>1017</td>\n",
       "      <td>2.049710</td>\n",
       "    </tr>\n",
       "    <tr>\n",
       "      <th>4</th>\n",
       "      <td>39966</td>\n",
       "      <td>2018-01-31 19:52:24.667</td>\n",
       "      <td>2018-02-01 06:58:31.053</td>\n",
       "      <td>74</td>\n",
       "      <td>Laguna St at Hayes St</td>\n",
       "      <td>37.776435</td>\n",
       "      <td>-122.426244</td>\n",
       "      <td>19</td>\n",
       "      <td>Post St at Kearny St</td>\n",
       "      <td>37.788975</td>\n",
       "      <td>...</td>\n",
       "      <td>617</td>\n",
       "      <td>Subscriber</td>\n",
       "      <td>No</td>\n",
       "      <td>January</td>\n",
       "      <td>1</td>\n",
       "      <td>Wed</td>\n",
       "      <td>19</td>\n",
       "      <td>6</td>\n",
       "      <td>666</td>\n",
       "      <td>2.440571</td>\n",
       "    </tr>\n",
       "  </tbody>\n",
       "</table>\n",
       "<p>5 rows × 21 columns</p>\n",
       "</div>"
      ],
      "text/plain": [
       "   duration_sec               start_time                 end_time  \\\n",
       "0         75284  2018-01-31 22:52:35.239  2018-02-01 19:47:19.824   \n",
       "1         85422  2018-01-31 16:13:34.351  2018-02-01 15:57:17.310   \n",
       "2         71576  2018-01-31 14:23:55.889  2018-02-01 10:16:52.116   \n",
       "3         61076  2018-01-31 14:53:23.562  2018-02-01 07:51:20.500   \n",
       "4         39966  2018-01-31 19:52:24.667  2018-02-01 06:58:31.053   \n",
       "\n",
       "   start_station_id                                 start_station_name  \\\n",
       "0               120                               Mission Dolores Park   \n",
       "1                15  San Francisco Ferry Building (Harry Bridges Pl...   \n",
       "2               304                               Jackson St at 5th St   \n",
       "3                75                           Market St at Franklin St   \n",
       "4                74                              Laguna St at Hayes St   \n",
       "\n",
       "   start_station_latitude  start_station_longitude  end_station_id  \\\n",
       "0               37.761420              -122.426435             285   \n",
       "1               37.795392              -122.394203              15   \n",
       "2               37.348759              -121.894798             296   \n",
       "3               37.773793              -122.421239              47   \n",
       "4               37.776435              -122.426244              19   \n",
       "\n",
       "                                    end_station_name  end_station_latitude  \\\n",
       "0                         Webster St at O'Farrell St             37.783521   \n",
       "1  San Francisco Ferry Building (Harry Bridges Pl...             37.795392   \n",
       "2                              5th St at Virginia St             37.325998   \n",
       "3                              4th St at Harrison St             37.780955   \n",
       "4                               Post St at Kearny St             37.788975   \n",
       "\n",
       "   ...  bike_id   user_type bike_share_for_all_trip start_time_month  \\\n",
       "0  ...     2765  Subscriber                      No          January   \n",
       "1  ...     2815    Customer                      No          January   \n",
       "2  ...     3039    Customer                      No          January   \n",
       "3  ...      321    Customer                      No          January   \n",
       "4  ...      617  Subscriber                      No          January   \n",
       "\n",
       "  start_time_month_num  start_time_weekday start_time_hour  end_time_hour  \\\n",
       "0                    1                 Wed              22             19   \n",
       "1                    1                 Wed              16             15   \n",
       "2                    1                 Wed              14             10   \n",
       "3                    1                 Wed              14              7   \n",
       "4                    1                 Wed              19              6   \n",
       "\n",
       "   duration_min  displacement_km  \n",
       "0          1254         2.492254  \n",
       "1          1423         0.000000  \n",
       "2          1192         2.974502  \n",
       "3          1017         2.049710  \n",
       "4           666         2.440571  \n",
       "\n",
       "[5 rows x 21 columns]"
      ]
     },
     "execution_count": 44,
     "metadata": {},
     "output_type": "execute_result"
    }
   ],
   "source": [
    "ford.head()"
   ]
  },
  {
   "cell_type": "code",
   "execution_count": 53,
   "metadata": {
    "slideshow": {
     "slide_type": "skip"
    }
   },
   "outputs": [
    {
     "data": {
      "image/png": "[encoded data removed]",
      "text/plain": [
       "<Figure size 576x432 with 1 Axes>"
      ]
     },
     "metadata": {},
     "output_type": "display_data"
    }
   ],
   "source": [
    "plt.figure(figsize=(8,6))\n",
    "sb.countplot(data=ford,x='start_time_weekday',hue='user_type')\n",
    "plt.title('Weekday Vs Number Of Rides',fontsize=18)\n",
    "plt.xlabel('Weekday',fontsize=18)\n",
    "plt.ylabel('Number Of Rides',fontsize=18);"
   ]
  },
  {
   "cell_type": "markdown",
   "metadata": {
    "slideshow": {
     "slide_type": "skip"
    }
   },
   "source": [
    "#### The plot reveals that the customers take a relatively less number of rides as compared to the subscribers.This can be attributed to the fact that there are more number of subscribers as compared to the customers."
   ]
  },
  {
   "cell_type": "code",
   "execution_count": 55,
   "metadata": {
    "slideshow": {
     "slide_type": "skip"
    }
   },
   "outputs": [
    {
     "data": {
      "image/png": "[encoded data removed]",
      "text/plain": [
       "<Figure size 576x432 with 1 Axes>"
      ]
     },
     "metadata": {},
     "output_type": "display_data"
    }
   ],
   "source": [
    "plt.figure(figsize=(8,6))\n",
    "sb.countplot(data=ford,x='start_time_hour',hue='user_type')\n",
    "plt.title('Hours Vs Number of Rides',fontsize=18)\n",
    "plt.xlabel('Hours',fontsize=18)\n",
    "plt.ylabel('Number Of Rides',fontsize=18);"
   ]
  },
  {
   "cell_type": "markdown",
   "metadata": {
    "slideshow": {
     "slide_type": "skip"
    }
   },
   "source": [
    "#### As seen in the previous insight the output of the hours Vs number of rides appears to be as expected.The subscribers are relatively more involved in the business as compared to customers at any given point of time during the day."
   ]
  },
  {
   "cell_type": "code",
   "execution_count": 57,
   "metadata": {
    "slideshow": {
     "slide_type": "skip"
    }
   },
   "outputs": [
    {
     "data": {
      "image/png": "[encoded data removed]",
      "text/plain": [
       "<Figure size 576x432 with 1 Axes>"
      ]
     },
     "metadata": {},
     "output_type": "display_data"
    }
   ],
   "source": [
    "plt.figure(figsize=(8,6))\n",
    "sb.barplot(data=ford, x='start_time_weekday', y='duration_min', color=base_color,order=['Sun','Mon','Tue','Wed','Thu','Fri','Sat'])\n",
    "plt.title('Day Of Week Vs Avg. Ride in Minutes',fontsize=18)\n",
    "plt.xlabel('Day of Week',fontsize=18)\n",
    "plt.ylabel('Avg. Ride in Minutes',fontsize=18);"
   ]
  },
  {
   "cell_type": "markdown",
   "metadata": {
    "slideshow": {
     "slide_type": "skip"
    }
   },
   "source": [
    "#### The average ride duration in minutes for the people in more on weekends."
   ]
  },
  {
   "cell_type": "code",
   "execution_count": 60,
   "metadata": {
    "slideshow": {
     "slide_type": "slide"
    }
   },
   "outputs": [
    {
     "data": {
      "image/png": "[encoded data removed]",
      "text/plain": [
       "<Figure size 576x432 with 1 Axes>"
      ]
     },
     "metadata": {},
     "output_type": "display_data"
    }
   ],
   "source": [
    "plt.figure(figsize=(8,6))\n",
    "plt.title('User Type Vs Avg. Duration in Minutes',fontsize=18)\n",
    "sb.barplot(data=ford,x='user_type',y='duration_min',color=base_color);\n",
    "plt.xlabel('User Type',fontsize=18)\n",
    "plt.ylabel('Duration in Minutes',fontsize=18);"
   ]
  },
  {
   "cell_type": "markdown",
   "metadata": {
    "slideshow": {
     "slide_type": "subslide"
    }
   },
   "source": [
    "#### The average duration of subscribers are way less than customers.Customers generally tend to take longer rides as compared to subscribers.The average of customers rides is approximately 40 whereas for subscribers,It is as small as 10.The customers nature can be attributed to tourists or students who explore new place and hence reflecting to a increase in the average duration.The subscribers on the other hand are mainly attributed to daily trips which they may take to reach their offices from home and vice versa."
   ]
  },
  {
   "cell_type": "markdown",
   "metadata": {
    "slideshow": {
     "slide_type": "skip"
    }
   },
   "source": [
    "#### The average minutes ride is maximum on Sat  followed by Sun.The weekdays has relatively shorter rides as compared to weekends."
   ]
  },
  {
   "cell_type": "markdown",
   "metadata": {
    "slideshow": {
     "slide_type": "skip"
    }
   },
   "source": [
    "### Talk about some of the relationships you observed in this part of the investigation. How did the feature(s) of interest vary with other features in the dataset?\n",
    "I learned that the average duration in minutes for rides range from 10 to 20 minutes.Out of these rides most of the people are subscribers and a small amount of people are customers.Besides this,subscribers have a realtively lower average as compared to the customers.Subscribers average duration of ride are 10 minutes whereas for customers the average is 40 minutes.Maximum duration rides are generally observed on weekends i.e Saturdays and Sundays.\n",
    "\n",
    "### Did you observe any interesting relationships between the other features (not the main feature(s) of interest)?\n",
    "Yes,I observed an unexpected insight that customers tend to take longer rides as compared to subscribers.This factor can be used to verify the fact that subscribers can be mostly office going people having their offices at 10 minutes distances."
   ]
  },
  {
   "cell_type": "markdown",
   "metadata": {
    "slideshow": {
     "slide_type": "skip"
    }
   },
   "source": [
    "<a id='multi'></a>\n",
    "## Multivariate Exploration\n",
    "\n",
    "> Create plots of three or more variables to investigate your data even\n",
    "further. Make sure that your investigations are justified, and follow from\n",
    "your work in the previous sections."
   ]
  },
  {
   "cell_type": "code",
   "execution_count": 62,
   "metadata": {
    "slideshow": {
     "slide_type": "slide"
    }
   },
   "outputs": [
    {
     "data": {
      "image/png": "[encoded data removed]",
      "text/plain": [
       "<Figure size 576x432 with 1 Axes>"
      ]
     },
     "metadata": {},
     "output_type": "display_data"
    }
   ],
   "source": [
    "plt.figure(figsize=(8,6))\n",
    "sb.pointplot(data=ford, x='start_time_weekday', y='duration_min', hue='user_type', dodge=0.3, linestyles=\"\");\n",
    "plt.xlabel('Weekday',fontsize=18);\n",
    "plt.ylabel('Avg Rides in Minutes',fontsize=18);\n",
    "plt.title('Weekday Vs Average Rides in Minutes Vs User Type',fontsize=18);"
   ]
  },
  {
   "cell_type": "markdown",
   "metadata": {
    "slideshow": {
     "slide_type": "subslide"
    }
   },
   "source": [
    "#### As Expected,Customers have a higher ride duration of approximately 40 minutes whereas the subscribers have a average ride duration of 10 minutes.Subscribers are office going people whereas customers are mostly tourists or students who explore new places."
   ]
  },
  {
   "cell_type": "code",
   "execution_count": 78,
   "metadata": {
    "slideshow": {
     "slide_type": "slide"
    }
   },
   "outputs": [
    {
     "data": {
      "image/png": "[encoded data removed]",
      "text/plain": [
       "<Figure size 576x720 with 2 Axes>"
      ]
     },
     "metadata": {},
     "output_type": "display_data"
    }
   ],
   "source": [
    "plt.figure(figsize=(8,10))\n",
    "ford_subs = ford.query('user_type == \"Subscriber\"').groupby(['start_time_hour', 'start_time_weekday'])['bike_id'].size().reset_index();\n",
    "ford_subs = ford_subs.pivot('start_time_hour', 'start_time_weekday', 'bike_id')\n",
    "heat_map = sb.heatmap(ford_subs, cmap = 'twilight')\n",
    "\n",
    "plt.title(\"Subscriber\", fontsize=18)\n",
    "plt.xlabel('Weekday', fontsize = 18)\n",
    "plt.ylabel('Start Time Hour', fontsize=18);"
   ]
  },
  {
   "cell_type": "markdown",
   "metadata": {
    "slideshow": {
     "slide_type": "subslide"
    }
   },
   "source": [
    "#### At the Weekdays most of the rides are initiated.The peak hours for the same being 8 in the morning and 5 in the evening.Besides this,The weekend reides are more evenly spread out as compared to the weekdays."
   ]
  },
  {
   "cell_type": "markdown",
   "metadata": {
    "slideshow": {
     "slide_type": "skip"
    }
   },
   "source": [
    "### Talk about some of the relationships you observed in this part of the investigation. Were there features that strengthened each other in terms of looking at your feature(s) of interest?\n",
    "The plots revealed as strengthen the fact that most of the rides are taken on weekdays as compared to the weekends.The rides are more clustered to 8 am in the morning and 17 pm in the evening.Besides this customers are the people who are more inclined to longer rides as compared to the subscribers.Subscribers have an average ride duration of 10 minutes whereas for customers is 40 minutes.\n",
    "\n",
    "### Were there any interesting or surprising interactions between features?\n",
    "Most of the findings were a verification to the previous facts."
   ]
  },
  {
   "cell_type": "markdown",
   "metadata": {
    "slideshow": {
     "slide_type": "skip"
    }
   },
   "source": [
    "<a id='summary'></a>\n",
    "## Summary"
   ]
  },
  {
   "cell_type": "markdown",
   "metadata": {
    "slideshow": {
     "slide_type": "slide"
    }
   },
   "source": [
    "## I learned that the average duration in minutes for rides range from 10 to 20 minutes.Out of these rides most of the people are subscribers and a small amount of people are customers.Besides this,subscribers have a realtively lower average as compared to the customers.Subscribers average duration of ride are 10 minutes whereas for customers the average is 40 minutes.Maximum duration rides are generally observed on weekends i.e Saturdays and Sundays."
   ]
  }
 ],
 "metadata": {
  "celltoolbar": "Slideshow",
  "kernelspec": {
   "display_name": "Python 3",
   "language": "python",
   "name": "python3"
  },
  "language_info": {
   "codemirror_mode": {
    "name": "ipython",
    "version": 3
   },
   "file_extension": ".py",
   "mimetype": "text/x-python",
   "name": "python",
   "nbconvert_exporter": "python",
   "pygments_lexer": "ipython3",
   "version": "3.7.3"
  }
 },
 "nbformat": 4,
 "nbformat_minor": 2
}
